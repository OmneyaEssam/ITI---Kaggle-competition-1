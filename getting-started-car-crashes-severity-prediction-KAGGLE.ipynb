{
 "cells": [
  {
   "cell_type": "markdown",
   "metadata": {
    "papermill": {
     "duration": 0.011447,
     "end_time": "2021-06-04T18:20:08.51834",
     "exception": false,
     "start_time": "2021-06-04T18:20:08.506893",
     "status": "completed"
    },
    "tags": []
   },
   "source": [
    "## You're here! \n",
    "Welcome to your first competition in the [ITI's AI Pro training program](https://ai.iti.gov.eg/epita/ai-engineer/)! We hope you enjoy and learn as much as we did prepairing this competition.\n",
    "\n",
    "\n",
    "## Introduction\n",
    "\n",
    "In the competition, it's required to predict the `Severity` of a car crash given info about the crash, e.g., location.\n",
    "\n",
    "This is the getting started notebook. Things are kept simple so that it's easier to understand the steps and modify it.\n",
    "\n",
    "Feel free to `Fork` this notebook and share it with your modifications **OR** use it to create your submissions.\n",
    "\n",
    "### Prerequisites\n",
    "You should know how to use python and a little bit of Machine Learning. You can apply the techniques you learned in the training program and submit the new solutions! \n",
    "\n",
    "### Checklist\n",
    "You can participate in this competition the way you perefer. However, I recommend following these steps if this is your first time joining a competition on Kaggle.\n",
    "\n",
    "* Fork this notebook and run the cells in order.\n",
    "* Submit this solution.\n",
    "* Make changes to the data processing step as you see fit.\n",
    "* Submit the new solutions.\n",
    "\n",
    "*You can submit up to 5 submissions per day. You can select only one of the submission you make to be considered in the final ranking.*\n",
    "\n",
    "\n",
    "Don't hesitate to leave a comment or contact me if you have any question!"
   ]
  },
  {
   "cell_type": "markdown",
   "metadata": {
    "papermill": {
     "duration": 0.010174,
     "end_time": "2021-06-04T18:20:08.539015",
     "exception": false,
     "start_time": "2021-06-04T18:20:08.528841",
     "status": "completed"
    },
    "tags": []
   },
   "source": [
    "## Import the libraries\n",
    "\n",
    "We'll use `pandas` to load and manipulate the data. Other libraries will be imported in the relevant sections."
   ]
  },
  {
   "cell_type": "code",
   "execution_count": 1,
   "metadata": {
    "_cell_guid": "b1076dfc-b9ad-4769-8c92-a6c4dae69d19",
    "_uuid": "8f2839f25d086af736a60e9eeb907d3b93b6e0e5",
    "execution": {
     "iopub.execute_input": "2021-07-26T08:49:48.972847Z",
     "iopub.status.busy": "2021-07-26T08:49:48.972131Z",
     "iopub.status.idle": "2021-07-26T08:49:48.983737Z",
     "shell.execute_reply": "2021-07-26T08:49:48.982852Z",
     "shell.execute_reply.started": "2021-07-26T08:49:48.972746Z"
    },
    "papermill": {
     "duration": 0.020965,
     "end_time": "2021-06-04T18:20:08.570429",
     "exception": false,
     "start_time": "2021-06-04T18:20:08.549464",
     "status": "completed"
    },
    "tags": []
   },
   "outputs": [],
   "source": [
    "import pandas as pd\n",
    "import os"
   ]
  },
  {
   "cell_type": "markdown",
   "metadata": {
    "papermill": {
     "duration": 0.010591,
     "end_time": "2021-06-04T18:20:08.592081",
     "exception": false,
     "start_time": "2021-06-04T18:20:08.58149",
     "status": "completed"
    },
    "tags": []
   },
   "source": [
    "## Exploratory Data Analysis\n",
    "In this step, one should load the data and analyze it. However, I'll load the data and do minimal analysis. You are encouraged to do thorough analysis!\n",
    "\n",
    "Let's load the data using `pandas` and have a look at the generated `DataFrame`."
   ]
  },
  {
   "cell_type": "code",
   "execution_count": 2,
   "metadata": {
    "execution": {
     "iopub.execute_input": "2021-07-26T08:49:48.998911Z",
     "iopub.status.busy": "2021-07-26T08:49:48.997893Z",
     "iopub.status.idle": "2021-07-26T08:49:49.177756Z",
     "shell.execute_reply": "2021-07-26T08:49:49.176821Z",
     "shell.execute_reply.started": "2021-07-26T08:49:48.998869Z"
    },
    "papermill": {
     "duration": 0.12872,
     "end_time": "2021-06-04T18:20:08.732163",
     "exception": false,
     "start_time": "2021-06-04T18:20:08.603443",
     "status": "completed"
    },
    "tags": []
   },
   "outputs": [
    {
     "name": "stdout",
     "output_type": "stream",
     "text": [
      "The shape of the dataset is (6407, 16).\n",
      "\n",
      "\n"
     ]
    },
    {
     "data": {
      "text/html": [
       "<div>\n",
       "<style scoped>\n",
       "    .dataframe tbody tr th:only-of-type {\n",
       "        vertical-align: middle;\n",
       "    }\n",
       "\n",
       "    .dataframe tbody tr th {\n",
       "        vertical-align: top;\n",
       "    }\n",
       "\n",
       "    .dataframe thead th {\n",
       "        text-align: right;\n",
       "    }\n",
       "</style>\n",
       "<table border=\"1\" class=\"dataframe\">\n",
       "  <thead>\n",
       "    <tr style=\"text-align: right;\">\n",
       "      <th></th>\n",
       "      <th>ID</th>\n",
       "      <th>Lat</th>\n",
       "      <th>Lng</th>\n",
       "      <th>Bump</th>\n",
       "      <th>Distance(mi)</th>\n",
       "      <th>Crossing</th>\n",
       "      <th>Give_Way</th>\n",
       "      <th>Junction</th>\n",
       "      <th>No_Exit</th>\n",
       "      <th>Railway</th>\n",
       "      <th>Roundabout</th>\n",
       "      <th>Stop</th>\n",
       "      <th>Amenity</th>\n",
       "      <th>Side</th>\n",
       "      <th>Severity</th>\n",
       "      <th>timestamp</th>\n",
       "    </tr>\n",
       "  </thead>\n",
       "  <tbody>\n",
       "    <tr>\n",
       "      <th>0</th>\n",
       "      <td>0</td>\n",
       "      <td>37.762150</td>\n",
       "      <td>-122.405660</td>\n",
       "      <td>False</td>\n",
       "      <td>0.044</td>\n",
       "      <td>False</td>\n",
       "      <td>False</td>\n",
       "      <td>False</td>\n",
       "      <td>False</td>\n",
       "      <td>False</td>\n",
       "      <td>False</td>\n",
       "      <td>False</td>\n",
       "      <td>True</td>\n",
       "      <td>R</td>\n",
       "      <td>2</td>\n",
       "      <td>2016-03-25 15:13:02</td>\n",
       "    </tr>\n",
       "    <tr>\n",
       "      <th>1</th>\n",
       "      <td>1</td>\n",
       "      <td>37.719157</td>\n",
       "      <td>-122.448254</td>\n",
       "      <td>False</td>\n",
       "      <td>0.000</td>\n",
       "      <td>False</td>\n",
       "      <td>False</td>\n",
       "      <td>False</td>\n",
       "      <td>False</td>\n",
       "      <td>False</td>\n",
       "      <td>False</td>\n",
       "      <td>False</td>\n",
       "      <td>False</td>\n",
       "      <td>R</td>\n",
       "      <td>2</td>\n",
       "      <td>2020-05-05 19:23:00</td>\n",
       "    </tr>\n",
       "    <tr>\n",
       "      <th>2</th>\n",
       "      <td>2</td>\n",
       "      <td>37.808498</td>\n",
       "      <td>-122.366852</td>\n",
       "      <td>False</td>\n",
       "      <td>0.000</td>\n",
       "      <td>False</td>\n",
       "      <td>False</td>\n",
       "      <td>False</td>\n",
       "      <td>False</td>\n",
       "      <td>False</td>\n",
       "      <td>False</td>\n",
       "      <td>True</td>\n",
       "      <td>False</td>\n",
       "      <td>R</td>\n",
       "      <td>3</td>\n",
       "      <td>2016-09-16 19:57:16</td>\n",
       "    </tr>\n",
       "    <tr>\n",
       "      <th>3</th>\n",
       "      <td>3</td>\n",
       "      <td>37.785930</td>\n",
       "      <td>-122.391080</td>\n",
       "      <td>False</td>\n",
       "      <td>0.009</td>\n",
       "      <td>False</td>\n",
       "      <td>False</td>\n",
       "      <td>True</td>\n",
       "      <td>False</td>\n",
       "      <td>False</td>\n",
       "      <td>False</td>\n",
       "      <td>False</td>\n",
       "      <td>False</td>\n",
       "      <td>R</td>\n",
       "      <td>1</td>\n",
       "      <td>2020-03-29 19:48:43</td>\n",
       "    </tr>\n",
       "    <tr>\n",
       "      <th>4</th>\n",
       "      <td>4</td>\n",
       "      <td>37.719141</td>\n",
       "      <td>-122.448457</td>\n",
       "      <td>False</td>\n",
       "      <td>0.000</td>\n",
       "      <td>False</td>\n",
       "      <td>False</td>\n",
       "      <td>False</td>\n",
       "      <td>False</td>\n",
       "      <td>False</td>\n",
       "      <td>False</td>\n",
       "      <td>False</td>\n",
       "      <td>False</td>\n",
       "      <td>R</td>\n",
       "      <td>2</td>\n",
       "      <td>2019-10-09 08:47:00</td>\n",
       "    </tr>\n",
       "  </tbody>\n",
       "</table>\n",
       "</div>"
      ],
      "text/plain": [
       "   ID        Lat         Lng   Bump  Distance(mi)  Crossing  Give_Way  \\\n",
       "0   0  37.762150 -122.405660  False         0.044     False     False   \n",
       "1   1  37.719157 -122.448254  False         0.000     False     False   \n",
       "2   2  37.808498 -122.366852  False         0.000     False     False   \n",
       "3   3  37.785930 -122.391080  False         0.009     False     False   \n",
       "4   4  37.719141 -122.448457  False         0.000     False     False   \n",
       "\n",
       "   Junction  No_Exit  Railway  Roundabout   Stop  Amenity Side  Severity  \\\n",
       "0     False    False    False       False  False     True    R         2   \n",
       "1     False    False    False       False  False    False    R         2   \n",
       "2     False    False    False       False   True    False    R         3   \n",
       "3      True    False    False       False  False    False    R         1   \n",
       "4     False    False    False       False  False    False    R         2   \n",
       "\n",
       "             timestamp  \n",
       "0  2016-03-25 15:13:02  \n",
       "1  2020-05-05 19:23:00  \n",
       "2  2016-09-16 19:57:16  \n",
       "3  2020-03-29 19:48:43  \n",
       "4  2019-10-09 08:47:00  "
      ]
     },
     "execution_count": 2,
     "metadata": {},
     "output_type": "execute_result"
    }
   ],
   "source": [
    "dataset_path = '/kaggle/input/car-crashes-severity-prediction/'\n",
    "\n",
    "#df = pd.read_csv(os.path.join('train.csv'))\n",
    "df=pd.read_csv('train.csv')\n",
    "\n",
    "print(\"The shape of the dataset is {}.\\n\\n\".format(df.shape))\n",
    "\n",
    "df.head()"
   ]
  },
  {
   "cell_type": "markdown",
   "metadata": {
    "papermill": {
     "duration": 0.011003,
     "end_time": "2021-06-04T18:20:08.755399",
     "exception": false,
     "start_time": "2021-06-04T18:20:08.744396",
     "status": "completed"
    },
    "tags": []
   },
   "source": [
    "We've got 6407 examples in the dataset with 14 featues, 1 ID, and the `Severity` of the crash.\n",
    "\n",
    "By looking at the features and a sample from the data, the features look of numerical and catogerical types. What about some descriptive statistics?"
   ]
  },
  {
   "cell_type": "markdown",
   "metadata": {},
   "source": [
    "# Finding missing/duplicated values"
   ]
  },
  {
   "cell_type": "code",
   "execution_count": 3,
   "metadata": {},
   "outputs": [
    {
     "data": {
      "text/plain": [
       "ID              0\n",
       "Lat             0\n",
       "Lng             0\n",
       "Bump            0\n",
       "Distance(mi)    0\n",
       "Crossing        0\n",
       "Give_Way        0\n",
       "Junction        0\n",
       "No_Exit         0\n",
       "Railway         0\n",
       "Roundabout      0\n",
       "Stop            0\n",
       "Amenity         0\n",
       "Side            0\n",
       "Severity        0\n",
       "timestamp       0\n",
       "dtype: int64"
      ]
     },
     "execution_count": 3,
     "metadata": {},
     "output_type": "execute_result"
    }
   ],
   "source": [
    "df.isnull().sum()"
   ]
  },
  {
   "cell_type": "code",
   "execution_count": 4,
   "metadata": {},
   "outputs": [
    {
     "data": {
      "text/plain": [
       "0"
      ]
     },
     "execution_count": 4,
     "metadata": {},
     "output_type": "execute_result"
    }
   ],
   "source": [
    "df.duplicated().sum()"
   ]
  },
  {
   "cell_type": "code",
   "execution_count": 5,
   "metadata": {},
   "outputs": [
    {
     "data": {
      "text/plain": [
       "0       2016-03-25 15:13:02\n",
       "1       2020-05-05 19:23:00\n",
       "2       2016-09-16 19:57:16\n",
       "3       2020-03-29 19:48:43\n",
       "4       2019-10-09 08:47:00\n",
       "               ...         \n",
       "6402    2017-10-01 18:36:13\n",
       "6403    2018-10-23 07:40:27\n",
       "6404    2019-10-28 15:45:00\n",
       "6405    2019-05-04 13:45:31\n",
       "6406    2020-02-28 19:43:00\n",
       "Name: timestamp, Length: 6407, dtype: object"
      ]
     },
     "execution_count": 5,
     "metadata": {},
     "output_type": "execute_result"
    }
   ],
   "source": [
    "df['timestamp']"
   ]
  },
  {
   "cell_type": "markdown",
   "metadata": {},
   "source": [
    "# Reading weather dataset"
   ]
  },
  {
   "cell_type": "code",
   "execution_count": 6,
   "metadata": {
    "scrolled": true
   },
   "outputs": [
    {
     "data": {
      "text/plain": [
       "(6901, 12)"
      ]
     },
     "execution_count": 6,
     "metadata": {},
     "output_type": "execute_result"
    }
   ],
   "source": [
    "weather = pd.read_csv('weather-sfcsv.csv')\n",
    "weather.shape"
   ]
  },
  {
   "cell_type": "markdown",
   "metadata": {},
   "source": [
    "### Compressing year,month,day into one column of type date"
   ]
  },
  {
   "cell_type": "code",
   "execution_count": 7,
   "metadata": {},
   "outputs": [
    {
     "data": {
      "text/plain": [
       "0      2020-07-27\n",
       "1      2017-09-30\n",
       "2      2017-06-27\n",
       "3      2016-09-07\n",
       "4      2019-10-19\n",
       "          ...    \n",
       "6896   2018-01-23\n",
       "6897   2019-06-16\n",
       "6898   2017-02-07\n",
       "6899   2016-04-22\n",
       "6900   2016-12-11\n",
       "Name: new_date_column, Length: 6901, dtype: datetime64[ns]"
      ]
     },
     "execution_count": 7,
     "metadata": {},
     "output_type": "execute_result"
    }
   ],
   "source": [
    "weather['new_date_column'] = pd.to_datetime(weather[['Year', 'Month', 'Day']])\n",
    "weather['new_date_column']"
   ]
  },
  {
   "cell_type": "code",
   "execution_count": 8,
   "metadata": {},
   "outputs": [
    {
     "name": "stdout",
     "output_type": "stream",
     "text": [
      "<class 'pandas.core.frame.DataFrame'>\n",
      "RangeIndex: 6901 entries, 0 to 6900\n",
      "Data columns (total 13 columns):\n",
      " #   Column             Non-Null Count  Dtype         \n",
      "---  ------             --------------  -----         \n",
      " 0   Year               6901 non-null   int64         \n",
      " 1   Day                6901 non-null   int64         \n",
      " 2   Month              6901 non-null   int64         \n",
      " 3   Hour               6901 non-null   int64         \n",
      " 4   Weather_Condition  6900 non-null   object        \n",
      " 5   Wind_Chill(F)      3292 non-null   float64       \n",
      " 6   Precipitation(in)  3574 non-null   float64       \n",
      " 7   Temperature(F)     6899 non-null   float64       \n",
      " 8   Humidity(%)        6899 non-null   float64       \n",
      " 9   Wind_Speed(mph)    6556 non-null   float64       \n",
      " 10  Visibility(mi)     6900 non-null   float64       \n",
      " 11  Selected           6901 non-null   object        \n",
      " 12  new_date_column    6901 non-null   datetime64[ns]\n",
      "dtypes: datetime64[ns](1), float64(6), int64(4), object(2)\n",
      "memory usage: 701.0+ KB\n"
     ]
    }
   ],
   "source": [
    "weather.info()"
   ]
  },
  {
   "cell_type": "markdown",
   "metadata": {},
   "source": [
    "#### Wind_Chill(F) and Precipitation(in)  have over 50% missing values, best practice is to drop these columns"
   ]
  },
  {
   "cell_type": "code",
   "execution_count": 9,
   "metadata": {
    "scrolled": true
   },
   "outputs": [],
   "source": [
    "weather.drop(['Wind_Chill(F)', 'Precipitation(in)'], axis=1, inplace=True)"
   ]
  },
  {
   "cell_type": "markdown",
   "metadata": {},
   "source": [
    "#### Wind_Speed(mph) has only 5% missing values"
   ]
  },
  {
   "cell_type": "code",
   "execution_count": 10,
   "metadata": {},
   "outputs": [
    {
     "data": {
      "text/html": [
       "<div>\n",
       "<style scoped>\n",
       "    .dataframe tbody tr th:only-of-type {\n",
       "        vertical-align: middle;\n",
       "    }\n",
       "\n",
       "    .dataframe tbody tr th {\n",
       "        vertical-align: top;\n",
       "    }\n",
       "\n",
       "    .dataframe thead th {\n",
       "        text-align: right;\n",
       "    }\n",
       "</style>\n",
       "<table border=\"1\" class=\"dataframe\">\n",
       "  <thead>\n",
       "    <tr style=\"text-align: right;\">\n",
       "      <th></th>\n",
       "      <th>Year</th>\n",
       "      <th>Day</th>\n",
       "      <th>Month</th>\n",
       "      <th>Hour</th>\n",
       "      <th>Weather_Condition</th>\n",
       "      <th>Temperature(F)</th>\n",
       "      <th>Humidity(%)</th>\n",
       "      <th>Wind_Speed(mph)</th>\n",
       "      <th>Visibility(mi)</th>\n",
       "      <th>Selected</th>\n",
       "      <th>new_date_column</th>\n",
       "    </tr>\n",
       "  </thead>\n",
       "  <tbody>\n",
       "    <tr>\n",
       "      <th>30</th>\n",
       "      <td>2017</td>\n",
       "      <td>15</td>\n",
       "      <td>3</td>\n",
       "      <td>5</td>\n",
       "      <td>Overcast</td>\n",
       "      <td>54.0</td>\n",
       "      <td>100.0</td>\n",
       "      <td>NaN</td>\n",
       "      <td>10.0</td>\n",
       "      <td>No</td>\n",
       "      <td>2017-03-15</td>\n",
       "    </tr>\n",
       "    <tr>\n",
       "      <th>38</th>\n",
       "      <td>2017</td>\n",
       "      <td>22</td>\n",
       "      <td>11</td>\n",
       "      <td>0</td>\n",
       "      <td>Clear</td>\n",
       "      <td>55.9</td>\n",
       "      <td>97.0</td>\n",
       "      <td>NaN</td>\n",
       "      <td>10.0</td>\n",
       "      <td>No</td>\n",
       "      <td>2017-11-22</td>\n",
       "    </tr>\n",
       "    <tr>\n",
       "      <th>49</th>\n",
       "      <td>2016</td>\n",
       "      <td>20</td>\n",
       "      <td>10</td>\n",
       "      <td>14</td>\n",
       "      <td>Partly Cloudy</td>\n",
       "      <td>72.0</td>\n",
       "      <td>43.0</td>\n",
       "      <td>NaN</td>\n",
       "      <td>10.0</td>\n",
       "      <td>No</td>\n",
       "      <td>2016-10-20</td>\n",
       "    </tr>\n",
       "    <tr>\n",
       "      <th>90</th>\n",
       "      <td>2018</td>\n",
       "      <td>1</td>\n",
       "      <td>1</td>\n",
       "      <td>3</td>\n",
       "      <td>Scattered Clouds</td>\n",
       "      <td>48.0</td>\n",
       "      <td>89.0</td>\n",
       "      <td>NaN</td>\n",
       "      <td>8.0</td>\n",
       "      <td>No</td>\n",
       "      <td>2018-01-01</td>\n",
       "    </tr>\n",
       "    <tr>\n",
       "      <th>95</th>\n",
       "      <td>2018</td>\n",
       "      <td>4</td>\n",
       "      <td>2</td>\n",
       "      <td>1</td>\n",
       "      <td>Partly Cloudy</td>\n",
       "      <td>55.0</td>\n",
       "      <td>89.0</td>\n",
       "      <td>NaN</td>\n",
       "      <td>10.0</td>\n",
       "      <td>No</td>\n",
       "      <td>2018-02-04</td>\n",
       "    </tr>\n",
       "    <tr>\n",
       "      <th>...</th>\n",
       "      <td>...</td>\n",
       "      <td>...</td>\n",
       "      <td>...</td>\n",
       "      <td>...</td>\n",
       "      <td>...</td>\n",
       "      <td>...</td>\n",
       "      <td>...</td>\n",
       "      <td>...</td>\n",
       "      <td>...</td>\n",
       "      <td>...</td>\n",
       "      <td>...</td>\n",
       "    </tr>\n",
       "    <tr>\n",
       "      <th>6808</th>\n",
       "      <td>2017</td>\n",
       "      <td>11</td>\n",
       "      <td>11</td>\n",
       "      <td>4</td>\n",
       "      <td>Shallow Fog</td>\n",
       "      <td>51.1</td>\n",
       "      <td>100.0</td>\n",
       "      <td>NaN</td>\n",
       "      <td>7.0</td>\n",
       "      <td>No</td>\n",
       "      <td>2017-11-11</td>\n",
       "    </tr>\n",
       "    <tr>\n",
       "      <th>6811</th>\n",
       "      <td>2018</td>\n",
       "      <td>5</td>\n",
       "      <td>9</td>\n",
       "      <td>8</td>\n",
       "      <td>Overcast</td>\n",
       "      <td>57.9</td>\n",
       "      <td>81.0</td>\n",
       "      <td>NaN</td>\n",
       "      <td>10.0</td>\n",
       "      <td>No</td>\n",
       "      <td>2018-09-05</td>\n",
       "    </tr>\n",
       "    <tr>\n",
       "      <th>6820</th>\n",
       "      <td>2019</td>\n",
       "      <td>10</td>\n",
       "      <td>1</td>\n",
       "      <td>19</td>\n",
       "      <td>Partly Cloudy</td>\n",
       "      <td>57.0</td>\n",
       "      <td>72.0</td>\n",
       "      <td>NaN</td>\n",
       "      <td>8.0</td>\n",
       "      <td>No</td>\n",
       "      <td>2019-01-10</td>\n",
       "    </tr>\n",
       "    <tr>\n",
       "      <th>6845</th>\n",
       "      <td>2019</td>\n",
       "      <td>8</td>\n",
       "      <td>1</td>\n",
       "      <td>11</td>\n",
       "      <td>Light Rain</td>\n",
       "      <td>57.0</td>\n",
       "      <td>83.0</td>\n",
       "      <td>NaN</td>\n",
       "      <td>10.0</td>\n",
       "      <td>No</td>\n",
       "      <td>2019-01-08</td>\n",
       "    </tr>\n",
       "    <tr>\n",
       "      <th>6879</th>\n",
       "      <td>2018</td>\n",
       "      <td>8</td>\n",
       "      <td>2</td>\n",
       "      <td>8</td>\n",
       "      <td>Partly Cloudy</td>\n",
       "      <td>48.9</td>\n",
       "      <td>93.0</td>\n",
       "      <td>NaN</td>\n",
       "      <td>4.0</td>\n",
       "      <td>No</td>\n",
       "      <td>2018-02-08</td>\n",
       "    </tr>\n",
       "  </tbody>\n",
       "</table>\n",
       "<p>345 rows × 11 columns</p>\n",
       "</div>"
      ],
      "text/plain": [
       "      Year  Day  Month  Hour Weather_Condition  Temperature(F)  Humidity(%)  \\\n",
       "30    2017   15      3     5          Overcast            54.0        100.0   \n",
       "38    2017   22     11     0             Clear            55.9         97.0   \n",
       "49    2016   20     10    14     Partly Cloudy            72.0         43.0   \n",
       "90    2018    1      1     3  Scattered Clouds            48.0         89.0   \n",
       "95    2018    4      2     1     Partly Cloudy            55.0         89.0   \n",
       "...    ...  ...    ...   ...               ...             ...          ...   \n",
       "6808  2017   11     11     4       Shallow Fog            51.1        100.0   \n",
       "6811  2018    5      9     8          Overcast            57.9         81.0   \n",
       "6820  2019   10      1    19     Partly Cloudy            57.0         72.0   \n",
       "6845  2019    8      1    11        Light Rain            57.0         83.0   \n",
       "6879  2018    8      2     8     Partly Cloudy            48.9         93.0   \n",
       "\n",
       "      Wind_Speed(mph)  Visibility(mi) Selected new_date_column  \n",
       "30                NaN            10.0       No      2017-03-15  \n",
       "38                NaN            10.0       No      2017-11-22  \n",
       "49                NaN            10.0       No      2016-10-20  \n",
       "90                NaN             8.0       No      2018-01-01  \n",
       "95                NaN            10.0       No      2018-02-04  \n",
       "...               ...             ...      ...             ...  \n",
       "6808              NaN             7.0       No      2017-11-11  \n",
       "6811              NaN            10.0       No      2018-09-05  \n",
       "6820              NaN             8.0       No      2019-01-10  \n",
       "6845              NaN            10.0       No      2019-01-08  \n",
       "6879              NaN             4.0       No      2018-02-08  \n",
       "\n",
       "[345 rows x 11 columns]"
      ]
     },
     "execution_count": 10,
     "metadata": {},
     "output_type": "execute_result"
    }
   ],
   "source": [
    "weather[weather['Wind_Speed(mph)'].isnull()]"
   ]
  },
  {
   "cell_type": "code",
   "execution_count": 11,
   "metadata": {},
   "outputs": [
    {
     "data": {
      "text/plain": [
       "(array([ 888., 1665., 1449., 1334.,  631.,  384.,  155.,   40.,    5.,\n",
       "           5.]),\n",
       " array([ 0.  ,  4.03,  8.06, 12.09, 16.12, 20.15, 24.18, 28.21, 32.24,\n",
       "        36.27, 40.3 ]),\n",
       " <BarContainer object of 10 artists>)"
      ]
     },
     "execution_count": 11,
     "metadata": {},
     "output_type": "execute_result"
    },
    {
     "data": {
      "image/png": "[encoded data removed]",
      "text/plain": [
       "<Figure size 432x288 with 1 Axes>"
      ]
     },
     "metadata": {
      "needs_background": "light"
     },
     "output_type": "display_data"
    }
   ],
   "source": [
    "import matplotlib.pyplot as plt\n",
    "plt.hist(weather['Wind_Speed(mph)'])"
   ]
  },
  {
   "cell_type": "code",
   "execution_count": 12,
   "metadata": {},
   "outputs": [
    {
     "data": {
      "text/plain": [
       "Year                   0\n",
       "Day                    0\n",
       "Month                  0\n",
       "Hour                   0\n",
       "Weather_Condition      1\n",
       "Temperature(F)         2\n",
       "Humidity(%)            2\n",
       "Wind_Speed(mph)      345\n",
       "Visibility(mi)         1\n",
       "Selected               0\n",
       "new_date_column        0\n",
       "dtype: int64"
      ]
     },
     "execution_count": 12,
     "metadata": {},
     "output_type": "execute_result"
    }
   ],
   "source": [
    "weather.isnull().sum()"
   ]
  },
  {
   "cell_type": "markdown",
   "metadata": {},
   "source": [
    "#### Data has a skewed distribution, so its better to impute missing values by the median of the column"
   ]
  },
  {
   "cell_type": "code",
   "execution_count": 13,
   "metadata": {},
   "outputs": [],
   "source": [
    "weather['Wind_Speed(mph)'].fillna(weather['Wind_Speed(mph)'].median(), inplace=True) "
   ]
  },
  {
   "cell_type": "code",
   "execution_count": 14,
   "metadata": {},
   "outputs": [
    {
     "name": "stdout",
     "output_type": "stream",
     "text": [
      "<class 'pandas.core.frame.DataFrame'>\n",
      "RangeIndex: 6901 entries, 0 to 6900\n",
      "Data columns (total 11 columns):\n",
      " #   Column             Non-Null Count  Dtype         \n",
      "---  ------             --------------  -----         \n",
      " 0   Year               6901 non-null   int64         \n",
      " 1   Day                6901 non-null   int64         \n",
      " 2   Month              6901 non-null   int64         \n",
      " 3   Hour               6901 non-null   int64         \n",
      " 4   Weather_Condition  6900 non-null   object        \n",
      " 5   Temperature(F)     6899 non-null   float64       \n",
      " 6   Humidity(%)        6899 non-null   float64       \n",
      " 7   Wind_Speed(mph)    6901 non-null   float64       \n",
      " 8   Visibility(mi)     6900 non-null   float64       \n",
      " 9   Selected           6901 non-null   object        \n",
      " 10  new_date_column    6901 non-null   datetime64[ns]\n",
      "dtypes: datetime64[ns](1), float64(4), int64(4), object(2)\n",
      "memory usage: 593.2+ KB\n"
     ]
    }
   ],
   "source": [
    "weather.info()"
   ]
  },
  {
   "cell_type": "code",
   "execution_count": 15,
   "metadata": {},
   "outputs": [],
   "source": [
    "weather.dropna(inplace=True)"
   ]
  },
  {
   "cell_type": "code",
   "execution_count": 16,
   "metadata": {
    "scrolled": true
   },
   "outputs": [
    {
     "name": "stdout",
     "output_type": "stream",
     "text": [
      "<class 'pandas.core.frame.DataFrame'>\n",
      "Int64Index: 6899 entries, 0 to 6900\n",
      "Data columns (total 11 columns):\n",
      " #   Column             Non-Null Count  Dtype         \n",
      "---  ------             --------------  -----         \n",
      " 0   Year               6899 non-null   int64         \n",
      " 1   Day                6899 non-null   int64         \n",
      " 2   Month              6899 non-null   int64         \n",
      " 3   Hour               6899 non-null   int64         \n",
      " 4   Weather_Condition  6899 non-null   object        \n",
      " 5   Temperature(F)     6899 non-null   float64       \n",
      " 6   Humidity(%)        6899 non-null   float64       \n",
      " 7   Wind_Speed(mph)    6899 non-null   float64       \n",
      " 8   Visibility(mi)     6899 non-null   float64       \n",
      " 9   Selected           6899 non-null   object        \n",
      " 10  new_date_column    6899 non-null   datetime64[ns]\n",
      "dtypes: datetime64[ns](1), float64(4), int64(4), object(2)\n",
      "memory usage: 646.8+ KB\n"
     ]
    }
   ],
   "source": [
    "weather.info()"
   ]
  },
  {
   "cell_type": "code",
   "execution_count": 17,
   "metadata": {},
   "outputs": [
    {
     "data": {
      "text/plain": [
       "0"
      ]
     },
     "execution_count": 17,
     "metadata": {},
     "output_type": "execute_result"
    }
   ],
   "source": [
    "weather.duplicated().sum()"
   ]
  },
  {
   "cell_type": "code",
   "execution_count": 18,
   "metadata": {},
   "outputs": [
    {
     "data": {
      "text/plain": [
       "Year                1.390487\n",
       "Day                 8.704956\n",
       "Month               3.568368\n",
       "Hour                5.873393\n",
       "Temperature(F)      7.977860\n",
       "Humidity(%)        16.180126\n",
       "Wind_Speed(mph)     6.246875\n",
       "Visibility(mi)      1.640619\n",
       "dtype: float64"
      ]
     },
     "execution_count": 18,
     "metadata": {},
     "output_type": "execute_result"
    }
   ],
   "source": [
    "weather.std()"
   ]
  },
  {
   "cell_type": "code",
   "execution_count": 19,
   "metadata": {},
   "outputs": [
    {
     "data": {
      "text/plain": [
       "Index(['Year', 'Day', 'Month', 'Hour', 'Weather_Condition', 'Temperature(F)',\n",
       "       'Humidity(%)', 'Wind_Speed(mph)', 'Visibility(mi)', 'Selected',\n",
       "       'new_date_column'],\n",
       "      dtype='object')"
      ]
     },
     "execution_count": 19,
     "metadata": {},
     "output_type": "execute_result"
    }
   ],
   "source": [
    "weather.columns"
   ]
  },
  {
   "cell_type": "code",
   "execution_count": 20,
   "metadata": {},
   "outputs": [
    {
     "data": {
      "text/plain": [
       "ID              3.421338e+06\n",
       "Lat             1.059813e-03\n",
       "Lng             7.994698e-04\n",
       "Bump            0.000000e+00\n",
       "Distance(mi)    1.571013e-01\n",
       "Crossing        7.563028e-02\n",
       "Give_Way        4.680917e-04\n",
       "Junction        1.857410e-01\n",
       "No_Exit         1.560793e-04\n",
       "Railway         2.583349e-02\n",
       "Roundabout      0.000000e+00\n",
       "Stop            8.817301e-02\n",
       "Amenity         3.577256e-02\n",
       "Severity        2.716755e-01\n",
       "dtype: float64"
      ]
     },
     "execution_count": 20,
     "metadata": {},
     "output_type": "execute_result"
    }
   ],
   "source": [
    "df.var()"
   ]
  },
  {
   "cell_type": "markdown",
   "metadata": {},
   "source": [
    "#### 'Bump', 'Give_Way','No_Exit','Roundabout' columns has almost Zero variance, we will drop them\n",
    "#### Also ID column is useless "
   ]
  },
  {
   "cell_type": "code",
   "execution_count": 21,
   "metadata": {},
   "outputs": [],
   "source": [
    "df.drop(['Bump', 'Give_Way','No_Exit','Roundabout','Lat' ,'Lng'], axis=1, inplace=True)"
   ]
  },
  {
   "cell_type": "markdown",
   "metadata": {},
   "source": [
    "#### Extracting the date only from timestamp column in order to merge it with Weather dataset"
   ]
  },
  {
   "cell_type": "code",
   "execution_count": 22,
   "metadata": {},
   "outputs": [],
   "source": [
    "df['timestamp'] = pd.to_datetime(df['timestamp'])\n",
    "df['new_date_column'] = df['timestamp'].dt.date\n",
    "df['new_date_column'] = pd.to_datetime(df['new_date_column'])"
   ]
  },
  {
   "cell_type": "code",
   "execution_count": 23,
   "metadata": {},
   "outputs": [],
   "source": [
    "def Convert_to_int(Df_col) :\n",
    "    df[Df_col] = df[Df_col].astype(int)\n",
    "Convert_to_int('Crossing')\n",
    "Convert_to_int('Junction')\n",
    "Convert_to_int('Railway')\n",
    "Convert_to_int('Stop')\n",
    "Convert_to_int('Amenity')"
   ]
  },
  {
   "cell_type": "code",
   "execution_count": 24,
   "metadata": {},
   "outputs": [
    {
     "data": {
      "text/plain": [
       "0       0\n",
       "1       0\n",
       "2       0\n",
       "3       0\n",
       "4       0\n",
       "       ..\n",
       "6402    0\n",
       "6403    0\n",
       "6404    0\n",
       "6405    0\n",
       "6406    0\n",
       "Name: Side, Length: 6407, dtype: int64"
      ]
     },
     "execution_count": 24,
     "metadata": {},
     "output_type": "execute_result"
    }
   ],
   "source": [
    "df['Side'] = df['Side'].replace({'R':0 ,'L':1})\n",
    "df['Side']"
   ]
  },
  {
   "cell_type": "code",
   "execution_count": 25,
   "metadata": {
    "scrolled": true
   },
   "outputs": [
    {
     "name": "stdout",
     "output_type": "stream",
     "text": [
      "<class 'pandas.core.frame.DataFrame'>\n",
      "RangeIndex: 6407 entries, 0 to 6406\n",
      "Data columns (total 11 columns):\n",
      " #   Column           Non-Null Count  Dtype         \n",
      "---  ------           --------------  -----         \n",
      " 0   ID               6407 non-null   int64         \n",
      " 1   Distance(mi)     6407 non-null   float64       \n",
      " 2   Crossing         6407 non-null   int32         \n",
      " 3   Junction         6407 non-null   int32         \n",
      " 4   Railway          6407 non-null   int32         \n",
      " 5   Stop             6407 non-null   int32         \n",
      " 6   Amenity          6407 non-null   int32         \n",
      " 7   Side             6407 non-null   int64         \n",
      " 8   Severity         6407 non-null   int64         \n",
      " 9   timestamp        6407 non-null   datetime64[ns]\n",
      " 10  new_date_column  6407 non-null   datetime64[ns]\n",
      "dtypes: datetime64[ns](2), float64(1), int32(5), int64(3)\n",
      "memory usage: 425.6 KB\n"
     ]
    }
   ],
   "source": [
    "df.info()"
   ]
  },
  {
   "cell_type": "markdown",
   "metadata": {},
   "source": [
    "## Merging both datasets"
   ]
  },
  {
   "cell_type": "code",
   "execution_count": 26,
   "metadata": {
    "scrolled": false
   },
   "outputs": [],
   "source": [
    "df = df.sort_values('new_date_column')\n",
    "weather = weather.sort_values('new_date_column')"
   ]
  },
  {
   "cell_type": "code",
   "execution_count": 27,
   "metadata": {},
   "outputs": [
    {
     "data": {
      "text/html": [
       "<div>\n",
       "<style scoped>\n",
       "    .dataframe tbody tr th:only-of-type {\n",
       "        vertical-align: middle;\n",
       "    }\n",
       "\n",
       "    .dataframe tbody tr th {\n",
       "        vertical-align: top;\n",
       "    }\n",
       "\n",
       "    .dataframe thead th {\n",
       "        text-align: right;\n",
       "    }\n",
       "</style>\n",
       "<table border=\"1\" class=\"dataframe\">\n",
       "  <thead>\n",
       "    <tr style=\"text-align: right;\">\n",
       "      <th></th>\n",
       "      <th>ID</th>\n",
       "      <th>Distance(mi)</th>\n",
       "      <th>Crossing</th>\n",
       "      <th>Junction</th>\n",
       "      <th>Railway</th>\n",
       "      <th>Stop</th>\n",
       "      <th>Amenity</th>\n",
       "      <th>Side</th>\n",
       "      <th>Severity</th>\n",
       "      <th>timestamp</th>\n",
       "      <th>...</th>\n",
       "      <th>Year</th>\n",
       "      <th>Day</th>\n",
       "      <th>Month</th>\n",
       "      <th>Hour</th>\n",
       "      <th>Weather_Condition</th>\n",
       "      <th>Temperature(F)</th>\n",
       "      <th>Humidity(%)</th>\n",
       "      <th>Wind_Speed(mph)</th>\n",
       "      <th>Visibility(mi)</th>\n",
       "      <th>Selected</th>\n",
       "    </tr>\n",
       "  </thead>\n",
       "  <tbody>\n",
       "    <tr>\n",
       "      <th>0</th>\n",
       "      <td>3657</td>\n",
       "      <td>0.000</td>\n",
       "      <td>0</td>\n",
       "      <td>1</td>\n",
       "      <td>0</td>\n",
       "      <td>0</td>\n",
       "      <td>0</td>\n",
       "      <td>0</td>\n",
       "      <td>2</td>\n",
       "      <td>2016-03-23 20:21:57</td>\n",
       "      <td>...</td>\n",
       "      <td>2016</td>\n",
       "      <td>23</td>\n",
       "      <td>3</td>\n",
       "      <td>20</td>\n",
       "      <td>Scattered Clouds</td>\n",
       "      <td>59.0</td>\n",
       "      <td>67.0</td>\n",
       "      <td>12.7</td>\n",
       "      <td>10.0</td>\n",
       "      <td>No</td>\n",
       "    </tr>\n",
       "    <tr>\n",
       "      <th>1</th>\n",
       "      <td>3724</td>\n",
       "      <td>0.010</td>\n",
       "      <td>0</td>\n",
       "      <td>0</td>\n",
       "      <td>0</td>\n",
       "      <td>0</td>\n",
       "      <td>0</td>\n",
       "      <td>0</td>\n",
       "      <td>3</td>\n",
       "      <td>2016-03-23 09:31:35</td>\n",
       "      <td>...</td>\n",
       "      <td>2016</td>\n",
       "      <td>23</td>\n",
       "      <td>3</td>\n",
       "      <td>20</td>\n",
       "      <td>Scattered Clouds</td>\n",
       "      <td>59.0</td>\n",
       "      <td>67.0</td>\n",
       "      <td>12.7</td>\n",
       "      <td>10.0</td>\n",
       "      <td>No</td>\n",
       "    </tr>\n",
       "    <tr>\n",
       "      <th>2</th>\n",
       "      <td>6024</td>\n",
       "      <td>0.150</td>\n",
       "      <td>0</td>\n",
       "      <td>1</td>\n",
       "      <td>0</td>\n",
       "      <td>0</td>\n",
       "      <td>0</td>\n",
       "      <td>0</td>\n",
       "      <td>2</td>\n",
       "      <td>2016-03-23 09:29:47</td>\n",
       "      <td>...</td>\n",
       "      <td>2016</td>\n",
       "      <td>23</td>\n",
       "      <td>3</td>\n",
       "      <td>20</td>\n",
       "      <td>Scattered Clouds</td>\n",
       "      <td>59.0</td>\n",
       "      <td>67.0</td>\n",
       "      <td>12.7</td>\n",
       "      <td>10.0</td>\n",
       "      <td>No</td>\n",
       "    </tr>\n",
       "    <tr>\n",
       "      <th>3</th>\n",
       "      <td>985</td>\n",
       "      <td>0.039</td>\n",
       "      <td>0</td>\n",
       "      <td>1</td>\n",
       "      <td>0</td>\n",
       "      <td>0</td>\n",
       "      <td>0</td>\n",
       "      <td>0</td>\n",
       "      <td>2</td>\n",
       "      <td>2016-03-24 08:51:16</td>\n",
       "      <td>...</td>\n",
       "      <td>2016</td>\n",
       "      <td>24</td>\n",
       "      <td>3</td>\n",
       "      <td>18</td>\n",
       "      <td>Scattered Clouds</td>\n",
       "      <td>57.9</td>\n",
       "      <td>87.0</td>\n",
       "      <td>21.9</td>\n",
       "      <td>10.0</td>\n",
       "      <td>No</td>\n",
       "    </tr>\n",
       "    <tr>\n",
       "      <th>4</th>\n",
       "      <td>1960</td>\n",
       "      <td>0.010</td>\n",
       "      <td>0</td>\n",
       "      <td>1</td>\n",
       "      <td>0</td>\n",
       "      <td>0</td>\n",
       "      <td>0</td>\n",
       "      <td>0</td>\n",
       "      <td>3</td>\n",
       "      <td>2016-03-24 11:51:55</td>\n",
       "      <td>...</td>\n",
       "      <td>2016</td>\n",
       "      <td>24</td>\n",
       "      <td>3</td>\n",
       "      <td>18</td>\n",
       "      <td>Scattered Clouds</td>\n",
       "      <td>57.9</td>\n",
       "      <td>87.0</td>\n",
       "      <td>21.9</td>\n",
       "      <td>10.0</td>\n",
       "      <td>No</td>\n",
       "    </tr>\n",
       "    <tr>\n",
       "      <th>...</th>\n",
       "      <td>...</td>\n",
       "      <td>...</td>\n",
       "      <td>...</td>\n",
       "      <td>...</td>\n",
       "      <td>...</td>\n",
       "      <td>...</td>\n",
       "      <td>...</td>\n",
       "      <td>...</td>\n",
       "      <td>...</td>\n",
       "      <td>...</td>\n",
       "      <td>...</td>\n",
       "      <td>...</td>\n",
       "      <td>...</td>\n",
       "      <td>...</td>\n",
       "      <td>...</td>\n",
       "      <td>...</td>\n",
       "      <td>...</td>\n",
       "      <td>...</td>\n",
       "      <td>...</td>\n",
       "      <td>...</td>\n",
       "      <td>...</td>\n",
       "    </tr>\n",
       "    <tr>\n",
       "      <th>6402</th>\n",
       "      <td>401</td>\n",
       "      <td>1.118</td>\n",
       "      <td>0</td>\n",
       "      <td>0</td>\n",
       "      <td>0</td>\n",
       "      <td>0</td>\n",
       "      <td>0</td>\n",
       "      <td>0</td>\n",
       "      <td>2</td>\n",
       "      <td>2020-12-31 02:26:00</td>\n",
       "      <td>...</td>\n",
       "      <td>2020</td>\n",
       "      <td>31</td>\n",
       "      <td>12</td>\n",
       "      <td>3</td>\n",
       "      <td>Fair</td>\n",
       "      <td>51.0</td>\n",
       "      <td>80.0</td>\n",
       "      <td>12.0</td>\n",
       "      <td>8.0</td>\n",
       "      <td>No</td>\n",
       "    </tr>\n",
       "    <tr>\n",
       "      <th>6403</th>\n",
       "      <td>3832</td>\n",
       "      <td>0.106</td>\n",
       "      <td>0</td>\n",
       "      <td>0</td>\n",
       "      <td>0</td>\n",
       "      <td>0</td>\n",
       "      <td>0</td>\n",
       "      <td>0</td>\n",
       "      <td>2</td>\n",
       "      <td>2020-12-31 03:10:00</td>\n",
       "      <td>...</td>\n",
       "      <td>2020</td>\n",
       "      <td>31</td>\n",
       "      <td>12</td>\n",
       "      <td>3</td>\n",
       "      <td>Fair</td>\n",
       "      <td>51.0</td>\n",
       "      <td>80.0</td>\n",
       "      <td>12.0</td>\n",
       "      <td>8.0</td>\n",
       "      <td>No</td>\n",
       "    </tr>\n",
       "    <tr>\n",
       "      <th>6404</th>\n",
       "      <td>3152</td>\n",
       "      <td>0.397</td>\n",
       "      <td>0</td>\n",
       "      <td>0</td>\n",
       "      <td>0</td>\n",
       "      <td>0</td>\n",
       "      <td>0</td>\n",
       "      <td>0</td>\n",
       "      <td>2</td>\n",
       "      <td>2020-12-31 04:50:00</td>\n",
       "      <td>...</td>\n",
       "      <td>2020</td>\n",
       "      <td>31</td>\n",
       "      <td>12</td>\n",
       "      <td>3</td>\n",
       "      <td>Fair</td>\n",
       "      <td>51.0</td>\n",
       "      <td>80.0</td>\n",
       "      <td>12.0</td>\n",
       "      <td>8.0</td>\n",
       "      <td>No</td>\n",
       "    </tr>\n",
       "    <tr>\n",
       "      <th>6405</th>\n",
       "      <td>6375</td>\n",
       "      <td>0.043</td>\n",
       "      <td>0</td>\n",
       "      <td>0</td>\n",
       "      <td>0</td>\n",
       "      <td>0</td>\n",
       "      <td>0</td>\n",
       "      <td>0</td>\n",
       "      <td>2</td>\n",
       "      <td>2020-12-31 09:10:00</td>\n",
       "      <td>...</td>\n",
       "      <td>2020</td>\n",
       "      <td>31</td>\n",
       "      <td>12</td>\n",
       "      <td>3</td>\n",
       "      <td>Fair</td>\n",
       "      <td>51.0</td>\n",
       "      <td>80.0</td>\n",
       "      <td>12.0</td>\n",
       "      <td>8.0</td>\n",
       "      <td>No</td>\n",
       "    </tr>\n",
       "    <tr>\n",
       "      <th>6406</th>\n",
       "      <td>2202</td>\n",
       "      <td>0.000</td>\n",
       "      <td>0</td>\n",
       "      <td>0</td>\n",
       "      <td>0</td>\n",
       "      <td>1</td>\n",
       "      <td>0</td>\n",
       "      <td>0</td>\n",
       "      <td>2</td>\n",
       "      <td>2020-12-31 15:53:01</td>\n",
       "      <td>...</td>\n",
       "      <td>2020</td>\n",
       "      <td>31</td>\n",
       "      <td>12</td>\n",
       "      <td>3</td>\n",
       "      <td>Fair</td>\n",
       "      <td>51.0</td>\n",
       "      <td>80.0</td>\n",
       "      <td>12.0</td>\n",
       "      <td>8.0</td>\n",
       "      <td>No</td>\n",
       "    </tr>\n",
       "  </tbody>\n",
       "</table>\n",
       "<p>6407 rows × 21 columns</p>\n",
       "</div>"
      ],
      "text/plain": [
       "        ID  Distance(mi)  Crossing  Junction  Railway  Stop  Amenity  Side  \\\n",
       "0     3657         0.000         0         1        0     0        0     0   \n",
       "1     3724         0.010         0         0        0     0        0     0   \n",
       "2     6024         0.150         0         1        0     0        0     0   \n",
       "3      985         0.039         0         1        0     0        0     0   \n",
       "4     1960         0.010         0         1        0     0        0     0   \n",
       "...    ...           ...       ...       ...      ...   ...      ...   ...   \n",
       "6402   401         1.118         0         0        0     0        0     0   \n",
       "6403  3832         0.106         0         0        0     0        0     0   \n",
       "6404  3152         0.397         0         0        0     0        0     0   \n",
       "6405  6375         0.043         0         0        0     0        0     0   \n",
       "6406  2202         0.000         0         0        0     1        0     0   \n",
       "\n",
       "      Severity           timestamp  ...  Year  Day  Month  Hour  \\\n",
       "0            2 2016-03-23 20:21:57  ...  2016   23      3    20   \n",
       "1            3 2016-03-23 09:31:35  ...  2016   23      3    20   \n",
       "2            2 2016-03-23 09:29:47  ...  2016   23      3    20   \n",
       "3            2 2016-03-24 08:51:16  ...  2016   24      3    18   \n",
       "4            3 2016-03-24 11:51:55  ...  2016   24      3    18   \n",
       "...        ...                 ...  ...   ...  ...    ...   ...   \n",
       "6402         2 2020-12-31 02:26:00  ...  2020   31     12     3   \n",
       "6403         2 2020-12-31 03:10:00  ...  2020   31     12     3   \n",
       "6404         2 2020-12-31 04:50:00  ...  2020   31     12     3   \n",
       "6405         2 2020-12-31 09:10:00  ...  2020   31     12     3   \n",
       "6406         2 2020-12-31 15:53:01  ...  2020   31     12     3   \n",
       "\n",
       "      Weather_Condition Temperature(F)  Humidity(%)  Wind_Speed(mph)  \\\n",
       "0      Scattered Clouds           59.0         67.0             12.7   \n",
       "1      Scattered Clouds           59.0         67.0             12.7   \n",
       "2      Scattered Clouds           59.0         67.0             12.7   \n",
       "3      Scattered Clouds           57.9         87.0             21.9   \n",
       "4      Scattered Clouds           57.9         87.0             21.9   \n",
       "...                 ...            ...          ...              ...   \n",
       "6402               Fair           51.0         80.0             12.0   \n",
       "6403               Fair           51.0         80.0             12.0   \n",
       "6404               Fair           51.0         80.0             12.0   \n",
       "6405               Fair           51.0         80.0             12.0   \n",
       "6406               Fair           51.0         80.0             12.0   \n",
       "\n",
       "      Visibility(mi)  Selected  \n",
       "0               10.0        No  \n",
       "1               10.0        No  \n",
       "2               10.0        No  \n",
       "3               10.0        No  \n",
       "4               10.0        No  \n",
       "...              ...       ...  \n",
       "6402             8.0        No  \n",
       "6403             8.0        No  \n",
       "6404             8.0        No  \n",
       "6405             8.0        No  \n",
       "6406             8.0        No  \n",
       "\n",
       "[6407 rows x 21 columns]"
      ]
     },
     "execution_count": 27,
     "metadata": {},
     "output_type": "execute_result"
    }
   ],
   "source": [
    "dfx = pd.merge_asof(df, weather, on='new_date_column')\n",
    "dfx"
   ]
  },
  {
   "cell_type": "code",
   "execution_count": 28,
   "metadata": {
    "scrolled": true
   },
   "outputs": [
    {
     "data": {
      "text/html": [
       "<div>\n",
       "<style scoped>\n",
       "    .dataframe tbody tr th:only-of-type {\n",
       "        vertical-align: middle;\n",
       "    }\n",
       "\n",
       "    .dataframe tbody tr th {\n",
       "        vertical-align: top;\n",
       "    }\n",
       "\n",
       "    .dataframe thead th {\n",
       "        text-align: right;\n",
       "    }\n",
       "</style>\n",
       "<table border=\"1\" class=\"dataframe\">\n",
       "  <thead>\n",
       "    <tr style=\"text-align: right;\">\n",
       "      <th></th>\n",
       "      <th>ID</th>\n",
       "      <th>Distance(mi)</th>\n",
       "      <th>Crossing</th>\n",
       "      <th>Junction</th>\n",
       "      <th>Railway</th>\n",
       "      <th>Stop</th>\n",
       "      <th>Amenity</th>\n",
       "      <th>Side</th>\n",
       "      <th>Severity</th>\n",
       "      <th>timestamp</th>\n",
       "      <th>...</th>\n",
       "      <th>Year</th>\n",
       "      <th>Day</th>\n",
       "      <th>Month</th>\n",
       "      <th>Hour</th>\n",
       "      <th>Weather_Condition</th>\n",
       "      <th>Temperature(F)</th>\n",
       "      <th>Humidity(%)</th>\n",
       "      <th>Wind_Speed(mph)</th>\n",
       "      <th>Visibility(mi)</th>\n",
       "      <th>Selected</th>\n",
       "    </tr>\n",
       "  </thead>\n",
       "  <tbody>\n",
       "    <tr>\n",
       "      <th>0</th>\n",
       "      <td>3657</td>\n",
       "      <td>0.000</td>\n",
       "      <td>0</td>\n",
       "      <td>1</td>\n",
       "      <td>0</td>\n",
       "      <td>0</td>\n",
       "      <td>0</td>\n",
       "      <td>0</td>\n",
       "      <td>2</td>\n",
       "      <td>2016-03-23 20:21:57</td>\n",
       "      <td>...</td>\n",
       "      <td>2016</td>\n",
       "      <td>23</td>\n",
       "      <td>3</td>\n",
       "      <td>20</td>\n",
       "      <td>Scattered Clouds</td>\n",
       "      <td>59.0</td>\n",
       "      <td>67.0</td>\n",
       "      <td>12.7</td>\n",
       "      <td>10.0</td>\n",
       "      <td>No</td>\n",
       "    </tr>\n",
       "    <tr>\n",
       "      <th>1</th>\n",
       "      <td>3724</td>\n",
       "      <td>0.010</td>\n",
       "      <td>0</td>\n",
       "      <td>0</td>\n",
       "      <td>0</td>\n",
       "      <td>0</td>\n",
       "      <td>0</td>\n",
       "      <td>0</td>\n",
       "      <td>3</td>\n",
       "      <td>2016-03-23 09:31:35</td>\n",
       "      <td>...</td>\n",
       "      <td>2016</td>\n",
       "      <td>23</td>\n",
       "      <td>3</td>\n",
       "      <td>20</td>\n",
       "      <td>Scattered Clouds</td>\n",
       "      <td>59.0</td>\n",
       "      <td>67.0</td>\n",
       "      <td>12.7</td>\n",
       "      <td>10.0</td>\n",
       "      <td>No</td>\n",
       "    </tr>\n",
       "    <tr>\n",
       "      <th>2</th>\n",
       "      <td>6024</td>\n",
       "      <td>0.150</td>\n",
       "      <td>0</td>\n",
       "      <td>1</td>\n",
       "      <td>0</td>\n",
       "      <td>0</td>\n",
       "      <td>0</td>\n",
       "      <td>0</td>\n",
       "      <td>2</td>\n",
       "      <td>2016-03-23 09:29:47</td>\n",
       "      <td>...</td>\n",
       "      <td>2016</td>\n",
       "      <td>23</td>\n",
       "      <td>3</td>\n",
       "      <td>20</td>\n",
       "      <td>Scattered Clouds</td>\n",
       "      <td>59.0</td>\n",
       "      <td>67.0</td>\n",
       "      <td>12.7</td>\n",
       "      <td>10.0</td>\n",
       "      <td>No</td>\n",
       "    </tr>\n",
       "    <tr>\n",
       "      <th>3</th>\n",
       "      <td>985</td>\n",
       "      <td>0.039</td>\n",
       "      <td>0</td>\n",
       "      <td>1</td>\n",
       "      <td>0</td>\n",
       "      <td>0</td>\n",
       "      <td>0</td>\n",
       "      <td>0</td>\n",
       "      <td>2</td>\n",
       "      <td>2016-03-24 08:51:16</td>\n",
       "      <td>...</td>\n",
       "      <td>2016</td>\n",
       "      <td>24</td>\n",
       "      <td>3</td>\n",
       "      <td>18</td>\n",
       "      <td>Scattered Clouds</td>\n",
       "      <td>57.9</td>\n",
       "      <td>87.0</td>\n",
       "      <td>21.9</td>\n",
       "      <td>10.0</td>\n",
       "      <td>No</td>\n",
       "    </tr>\n",
       "    <tr>\n",
       "      <th>4</th>\n",
       "      <td>1960</td>\n",
       "      <td>0.010</td>\n",
       "      <td>0</td>\n",
       "      <td>1</td>\n",
       "      <td>0</td>\n",
       "      <td>0</td>\n",
       "      <td>0</td>\n",
       "      <td>0</td>\n",
       "      <td>3</td>\n",
       "      <td>2016-03-24 11:51:55</td>\n",
       "      <td>...</td>\n",
       "      <td>2016</td>\n",
       "      <td>24</td>\n",
       "      <td>3</td>\n",
       "      <td>18</td>\n",
       "      <td>Scattered Clouds</td>\n",
       "      <td>57.9</td>\n",
       "      <td>87.0</td>\n",
       "      <td>21.9</td>\n",
       "      <td>10.0</td>\n",
       "      <td>No</td>\n",
       "    </tr>\n",
       "    <tr>\n",
       "      <th>...</th>\n",
       "      <td>...</td>\n",
       "      <td>...</td>\n",
       "      <td>...</td>\n",
       "      <td>...</td>\n",
       "      <td>...</td>\n",
       "      <td>...</td>\n",
       "      <td>...</td>\n",
       "      <td>...</td>\n",
       "      <td>...</td>\n",
       "      <td>...</td>\n",
       "      <td>...</td>\n",
       "      <td>...</td>\n",
       "      <td>...</td>\n",
       "      <td>...</td>\n",
       "      <td>...</td>\n",
       "      <td>...</td>\n",
       "      <td>...</td>\n",
       "      <td>...</td>\n",
       "      <td>...</td>\n",
       "      <td>...</td>\n",
       "      <td>...</td>\n",
       "    </tr>\n",
       "    <tr>\n",
       "      <th>6402</th>\n",
       "      <td>401</td>\n",
       "      <td>1.118</td>\n",
       "      <td>0</td>\n",
       "      <td>0</td>\n",
       "      <td>0</td>\n",
       "      <td>0</td>\n",
       "      <td>0</td>\n",
       "      <td>0</td>\n",
       "      <td>2</td>\n",
       "      <td>2020-12-31 02:26:00</td>\n",
       "      <td>...</td>\n",
       "      <td>2020</td>\n",
       "      <td>31</td>\n",
       "      <td>12</td>\n",
       "      <td>3</td>\n",
       "      <td>Fair</td>\n",
       "      <td>51.0</td>\n",
       "      <td>80.0</td>\n",
       "      <td>12.0</td>\n",
       "      <td>8.0</td>\n",
       "      <td>No</td>\n",
       "    </tr>\n",
       "    <tr>\n",
       "      <th>6403</th>\n",
       "      <td>3832</td>\n",
       "      <td>0.106</td>\n",
       "      <td>0</td>\n",
       "      <td>0</td>\n",
       "      <td>0</td>\n",
       "      <td>0</td>\n",
       "      <td>0</td>\n",
       "      <td>0</td>\n",
       "      <td>2</td>\n",
       "      <td>2020-12-31 03:10:00</td>\n",
       "      <td>...</td>\n",
       "      <td>2020</td>\n",
       "      <td>31</td>\n",
       "      <td>12</td>\n",
       "      <td>3</td>\n",
       "      <td>Fair</td>\n",
       "      <td>51.0</td>\n",
       "      <td>80.0</td>\n",
       "      <td>12.0</td>\n",
       "      <td>8.0</td>\n",
       "      <td>No</td>\n",
       "    </tr>\n",
       "    <tr>\n",
       "      <th>6404</th>\n",
       "      <td>3152</td>\n",
       "      <td>0.397</td>\n",
       "      <td>0</td>\n",
       "      <td>0</td>\n",
       "      <td>0</td>\n",
       "      <td>0</td>\n",
       "      <td>0</td>\n",
       "      <td>0</td>\n",
       "      <td>2</td>\n",
       "      <td>2020-12-31 04:50:00</td>\n",
       "      <td>...</td>\n",
       "      <td>2020</td>\n",
       "      <td>31</td>\n",
       "      <td>12</td>\n",
       "      <td>3</td>\n",
       "      <td>Fair</td>\n",
       "      <td>51.0</td>\n",
       "      <td>80.0</td>\n",
       "      <td>12.0</td>\n",
       "      <td>8.0</td>\n",
       "      <td>No</td>\n",
       "    </tr>\n",
       "    <tr>\n",
       "      <th>6405</th>\n",
       "      <td>6375</td>\n",
       "      <td>0.043</td>\n",
       "      <td>0</td>\n",
       "      <td>0</td>\n",
       "      <td>0</td>\n",
       "      <td>0</td>\n",
       "      <td>0</td>\n",
       "      <td>0</td>\n",
       "      <td>2</td>\n",
       "      <td>2020-12-31 09:10:00</td>\n",
       "      <td>...</td>\n",
       "      <td>2020</td>\n",
       "      <td>31</td>\n",
       "      <td>12</td>\n",
       "      <td>3</td>\n",
       "      <td>Fair</td>\n",
       "      <td>51.0</td>\n",
       "      <td>80.0</td>\n",
       "      <td>12.0</td>\n",
       "      <td>8.0</td>\n",
       "      <td>No</td>\n",
       "    </tr>\n",
       "    <tr>\n",
       "      <th>6406</th>\n",
       "      <td>2202</td>\n",
       "      <td>0.000</td>\n",
       "      <td>0</td>\n",
       "      <td>0</td>\n",
       "      <td>0</td>\n",
       "      <td>1</td>\n",
       "      <td>0</td>\n",
       "      <td>0</td>\n",
       "      <td>2</td>\n",
       "      <td>2020-12-31 15:53:01</td>\n",
       "      <td>...</td>\n",
       "      <td>2020</td>\n",
       "      <td>31</td>\n",
       "      <td>12</td>\n",
       "      <td>3</td>\n",
       "      <td>Fair</td>\n",
       "      <td>51.0</td>\n",
       "      <td>80.0</td>\n",
       "      <td>12.0</td>\n",
       "      <td>8.0</td>\n",
       "      <td>No</td>\n",
       "    </tr>\n",
       "  </tbody>\n",
       "</table>\n",
       "<p>6407 rows × 21 columns</p>\n",
       "</div>"
      ],
      "text/plain": [
       "        ID  Distance(mi)  Crossing  Junction  Railway  Stop  Amenity  Side  \\\n",
       "0     3657         0.000         0         1        0     0        0     0   \n",
       "1     3724         0.010         0         0        0     0        0     0   \n",
       "2     6024         0.150         0         1        0     0        0     0   \n",
       "3      985         0.039         0         1        0     0        0     0   \n",
       "4     1960         0.010         0         1        0     0        0     0   \n",
       "...    ...           ...       ...       ...      ...   ...      ...   ...   \n",
       "6402   401         1.118         0         0        0     0        0     0   \n",
       "6403  3832         0.106         0         0        0     0        0     0   \n",
       "6404  3152         0.397         0         0        0     0        0     0   \n",
       "6405  6375         0.043         0         0        0     0        0     0   \n",
       "6406  2202         0.000         0         0        0     1        0     0   \n",
       "\n",
       "      Severity           timestamp  ...  Year  Day  Month  Hour  \\\n",
       "0            2 2016-03-23 20:21:57  ...  2016   23      3    20   \n",
       "1            3 2016-03-23 09:31:35  ...  2016   23      3    20   \n",
       "2            2 2016-03-23 09:29:47  ...  2016   23      3    20   \n",
       "3            2 2016-03-24 08:51:16  ...  2016   24      3    18   \n",
       "4            3 2016-03-24 11:51:55  ...  2016   24      3    18   \n",
       "...        ...                 ...  ...   ...  ...    ...   ...   \n",
       "6402         2 2020-12-31 02:26:00  ...  2020   31     12     3   \n",
       "6403         2 2020-12-31 03:10:00  ...  2020   31     12     3   \n",
       "6404         2 2020-12-31 04:50:00  ...  2020   31     12     3   \n",
       "6405         2 2020-12-31 09:10:00  ...  2020   31     12     3   \n",
       "6406         2 2020-12-31 15:53:01  ...  2020   31     12     3   \n",
       "\n",
       "      Weather_Condition Temperature(F)  Humidity(%)  Wind_Speed(mph)  \\\n",
       "0      Scattered Clouds           59.0         67.0             12.7   \n",
       "1      Scattered Clouds           59.0         67.0             12.7   \n",
       "2      Scattered Clouds           59.0         67.0             12.7   \n",
       "3      Scattered Clouds           57.9         87.0             21.9   \n",
       "4      Scattered Clouds           57.9         87.0             21.9   \n",
       "...                 ...            ...          ...              ...   \n",
       "6402               Fair           51.0         80.0             12.0   \n",
       "6403               Fair           51.0         80.0             12.0   \n",
       "6404               Fair           51.0         80.0             12.0   \n",
       "6405               Fair           51.0         80.0             12.0   \n",
       "6406               Fair           51.0         80.0             12.0   \n",
       "\n",
       "      Visibility(mi)  Selected  \n",
       "0               10.0        No  \n",
       "1               10.0        No  \n",
       "2               10.0        No  \n",
       "3               10.0        No  \n",
       "4               10.0        No  \n",
       "...              ...       ...  \n",
       "6402             8.0        No  \n",
       "6403             8.0        No  \n",
       "6404             8.0        No  \n",
       "6405             8.0        No  \n",
       "6406             8.0        No  \n",
       "\n",
       "[6407 rows x 21 columns]"
      ]
     },
     "execution_count": 28,
     "metadata": {},
     "output_type": "execute_result"
    }
   ],
   "source": [
    "dfx.dropna(inplace=True)\n",
    "dfx"
   ]
  },
  {
   "cell_type": "code",
   "execution_count": 29,
   "metadata": {},
   "outputs": [],
   "source": [
    "import seaborn as sns\n",
    "#sns.distplot(dfx[dfx['Weather_Condition']==['']])\n"
   ]
  },
  {
   "cell_type": "code",
   "execution_count": 30,
   "metadata": {},
   "outputs": [
    {
     "data": {
      "text/plain": [
       "{'Partly Cloudy': 1455,\n",
       " 'Mostly Cloudy': 1381,\n",
       " 'Fair': 1313,\n",
       " 'Overcast': 456,\n",
       " 'Clear': 388,\n",
       " 'Cloudy': 362,\n",
       " 'Scattered Clouds': 323,\n",
       " 'Light Rain': 253,\n",
       " 'Fair / Windy': 94,\n",
       " 'Haze': 84,\n",
       " 'Rain': 78,\n",
       " 'Mostly Cloudy / Windy': 50,\n",
       " 'Shallow Fog': 31,\n",
       " 'Heavy Rain': 31,\n",
       " 'Partly Cloudy / Windy': 26,\n",
       " 'Smoke': 23,\n",
       " 'Cloudy / Windy': 18,\n",
       " 'Fog': 15,\n",
       " 'Patches of Fog': 10,\n",
       " 'Squalls': 7,\n",
       " 'Light Drizzle': 6,\n",
       " 'Mist': 3}"
      ]
     },
     "execution_count": 30,
     "metadata": {},
     "output_type": "execute_result"
    }
   ],
   "source": [
    "counts = dfx['Weather_Condition'].value_counts().to_dict()\n",
    "counts\n"
   ]
  },
  {
   "cell_type": "code",
   "execution_count": 31,
   "metadata": {},
   "outputs": [
    {
     "data": {
      "text/plain": [
       "<AxesSubplot:xlabel='Weather_Condition', ylabel='Severity'>"
      ]
     },
     "execution_count": 31,
     "metadata": {},
     "output_type": "execute_result"
    },
    {
     "data": {
      "image/png": "[encoded data removed]",
      "text/plain": [
       "<Figure size 1800x576 with 1 Axes>"
      ]
     },
     "metadata": {
      "needs_background": "light"
     },
     "output_type": "display_data"
    }
   ],
   "source": [
    "import seaborn as sns\n",
    "fig, ax = plt.subplots(figsize=(25, 8))\n",
    "sns.lineplot(ax=ax, data=dfx , x='Weather_Condition', y='Severity')"
   ]
  },
  {
   "cell_type": "code",
   "execution_count": 32,
   "metadata": {},
   "outputs": [
    {
     "data": {
      "text/plain": [
       "\"\\ndfx.Weather_Condition.replace(['Partly Cloudy', 'Mostly Cloudy', 'Fair', 'Overcast', 'Clear','Cloudy',\\n                                 'Scattered Clouds','Light Rain','Fair / Windy','Haze', 'Rain','Partly Cloudy / Windy'\\n                                 ,'Mostly Cloudy / Windy','Heavy Rain','Fog', 'Shallow Fog', 'Smoke', 'Cloudy / Windy'\\n                                 ,'Light Rain / Windy', 'Light Drizzle', 'Mist','Patches of Fog','Rain / Windy'\\n                                 , 'Fog / Windy','Squalls', 'Light Thunderstorms and Rain'], \\n                                [1,2,3,4,5,6,7,8,9,10,11,12,13,14,\\n                                15,16,17,18,19,20,21,22,23,24,25,26], inplace=True)\\n\""
      ]
     },
     "execution_count": 32,
     "metadata": {},
     "output_type": "execute_result"
    }
   ],
   "source": [
    "'''\n",
    "dfx.Weather_Condition.replace(['Partly Cloudy', 'Mostly Cloudy', 'Fair', 'Overcast', 'Clear','Cloudy',\n",
    "                                 'Scattered Clouds','Light Rain','Fair / Windy','Haze', 'Rain','Partly Cloudy / Windy'\n",
    "                                 ,'Mostly Cloudy / Windy','Heavy Rain','Fog', 'Shallow Fog', 'Smoke', 'Cloudy / Windy'\n",
    "                                 ,'Light Rain / Windy', 'Light Drizzle', 'Mist','Patches of Fog','Rain / Windy'\n",
    "                                 , 'Fog / Windy','Squalls', 'Light Thunderstorms and Rain'], \n",
    "                                [1,2,3,4,5,6,7,8,9,10,11,12,13,14,\n",
    "                                15,16,17,18,19,20,21,22,23,24,25,26], inplace=True)\n",
    "'''"
   ]
  },
  {
   "cell_type": "code",
   "execution_count": 33,
   "metadata": {},
   "outputs": [],
   "source": [
    "dfy = pd.get_dummies(dfx.Weather_Condition)"
   ]
  },
  {
   "cell_type": "code",
   "execution_count": 34,
   "metadata": {},
   "outputs": [
    {
     "data": {
      "text/html": [
       "<div>\n",
       "<style scoped>\n",
       "    .dataframe tbody tr th:only-of-type {\n",
       "        vertical-align: middle;\n",
       "    }\n",
       "\n",
       "    .dataframe tbody tr th {\n",
       "        vertical-align: top;\n",
       "    }\n",
       "\n",
       "    .dataframe thead th {\n",
       "        text-align: right;\n",
       "    }\n",
       "</style>\n",
       "<table border=\"1\" class=\"dataframe\">\n",
       "  <thead>\n",
       "    <tr style=\"text-align: right;\">\n",
       "      <th></th>\n",
       "      <th>Clear</th>\n",
       "      <th>Cloudy</th>\n",
       "      <th>Cloudy / Windy</th>\n",
       "      <th>Fair</th>\n",
       "      <th>Fair / Windy</th>\n",
       "      <th>Fog</th>\n",
       "      <th>Haze</th>\n",
       "      <th>Heavy Rain</th>\n",
       "      <th>Light Drizzle</th>\n",
       "      <th>Light Rain</th>\n",
       "      <th>...</th>\n",
       "      <th>Mostly Cloudy / Windy</th>\n",
       "      <th>Overcast</th>\n",
       "      <th>Partly Cloudy</th>\n",
       "      <th>Partly Cloudy / Windy</th>\n",
       "      <th>Patches of Fog</th>\n",
       "      <th>Rain</th>\n",
       "      <th>Scattered Clouds</th>\n",
       "      <th>Shallow Fog</th>\n",
       "      <th>Smoke</th>\n",
       "      <th>Squalls</th>\n",
       "    </tr>\n",
       "  </thead>\n",
       "  <tbody>\n",
       "    <tr>\n",
       "      <th>0</th>\n",
       "      <td>0</td>\n",
       "      <td>0</td>\n",
       "      <td>0</td>\n",
       "      <td>0</td>\n",
       "      <td>0</td>\n",
       "      <td>0</td>\n",
       "      <td>0</td>\n",
       "      <td>0</td>\n",
       "      <td>0</td>\n",
       "      <td>0</td>\n",
       "      <td>...</td>\n",
       "      <td>0</td>\n",
       "      <td>0</td>\n",
       "      <td>0</td>\n",
       "      <td>0</td>\n",
       "      <td>0</td>\n",
       "      <td>0</td>\n",
       "      <td>1</td>\n",
       "      <td>0</td>\n",
       "      <td>0</td>\n",
       "      <td>0</td>\n",
       "    </tr>\n",
       "    <tr>\n",
       "      <th>1</th>\n",
       "      <td>0</td>\n",
       "      <td>0</td>\n",
       "      <td>0</td>\n",
       "      <td>0</td>\n",
       "      <td>0</td>\n",
       "      <td>0</td>\n",
       "      <td>0</td>\n",
       "      <td>0</td>\n",
       "      <td>0</td>\n",
       "      <td>0</td>\n",
       "      <td>...</td>\n",
       "      <td>0</td>\n",
       "      <td>0</td>\n",
       "      <td>0</td>\n",
       "      <td>0</td>\n",
       "      <td>0</td>\n",
       "      <td>0</td>\n",
       "      <td>1</td>\n",
       "      <td>0</td>\n",
       "      <td>0</td>\n",
       "      <td>0</td>\n",
       "    </tr>\n",
       "    <tr>\n",
       "      <th>2</th>\n",
       "      <td>0</td>\n",
       "      <td>0</td>\n",
       "      <td>0</td>\n",
       "      <td>0</td>\n",
       "      <td>0</td>\n",
       "      <td>0</td>\n",
       "      <td>0</td>\n",
       "      <td>0</td>\n",
       "      <td>0</td>\n",
       "      <td>0</td>\n",
       "      <td>...</td>\n",
       "      <td>0</td>\n",
       "      <td>0</td>\n",
       "      <td>0</td>\n",
       "      <td>0</td>\n",
       "      <td>0</td>\n",
       "      <td>0</td>\n",
       "      <td>1</td>\n",
       "      <td>0</td>\n",
       "      <td>0</td>\n",
       "      <td>0</td>\n",
       "    </tr>\n",
       "    <tr>\n",
       "      <th>3</th>\n",
       "      <td>0</td>\n",
       "      <td>0</td>\n",
       "      <td>0</td>\n",
       "      <td>0</td>\n",
       "      <td>0</td>\n",
       "      <td>0</td>\n",
       "      <td>0</td>\n",
       "      <td>0</td>\n",
       "      <td>0</td>\n",
       "      <td>0</td>\n",
       "      <td>...</td>\n",
       "      <td>0</td>\n",
       "      <td>0</td>\n",
       "      <td>0</td>\n",
       "      <td>0</td>\n",
       "      <td>0</td>\n",
       "      <td>0</td>\n",
       "      <td>1</td>\n",
       "      <td>0</td>\n",
       "      <td>0</td>\n",
       "      <td>0</td>\n",
       "    </tr>\n",
       "    <tr>\n",
       "      <th>4</th>\n",
       "      <td>0</td>\n",
       "      <td>0</td>\n",
       "      <td>0</td>\n",
       "      <td>0</td>\n",
       "      <td>0</td>\n",
       "      <td>0</td>\n",
       "      <td>0</td>\n",
       "      <td>0</td>\n",
       "      <td>0</td>\n",
       "      <td>0</td>\n",
       "      <td>...</td>\n",
       "      <td>0</td>\n",
       "      <td>0</td>\n",
       "      <td>0</td>\n",
       "      <td>0</td>\n",
       "      <td>0</td>\n",
       "      <td>0</td>\n",
       "      <td>1</td>\n",
       "      <td>0</td>\n",
       "      <td>0</td>\n",
       "      <td>0</td>\n",
       "    </tr>\n",
       "    <tr>\n",
       "      <th>...</th>\n",
       "      <td>...</td>\n",
       "      <td>...</td>\n",
       "      <td>...</td>\n",
       "      <td>...</td>\n",
       "      <td>...</td>\n",
       "      <td>...</td>\n",
       "      <td>...</td>\n",
       "      <td>...</td>\n",
       "      <td>...</td>\n",
       "      <td>...</td>\n",
       "      <td>...</td>\n",
       "      <td>...</td>\n",
       "      <td>...</td>\n",
       "      <td>...</td>\n",
       "      <td>...</td>\n",
       "      <td>...</td>\n",
       "      <td>...</td>\n",
       "      <td>...</td>\n",
       "      <td>...</td>\n",
       "      <td>...</td>\n",
       "      <td>...</td>\n",
       "    </tr>\n",
       "    <tr>\n",
       "      <th>6402</th>\n",
       "      <td>0</td>\n",
       "      <td>0</td>\n",
       "      <td>0</td>\n",
       "      <td>1</td>\n",
       "      <td>0</td>\n",
       "      <td>0</td>\n",
       "      <td>0</td>\n",
       "      <td>0</td>\n",
       "      <td>0</td>\n",
       "      <td>0</td>\n",
       "      <td>...</td>\n",
       "      <td>0</td>\n",
       "      <td>0</td>\n",
       "      <td>0</td>\n",
       "      <td>0</td>\n",
       "      <td>0</td>\n",
       "      <td>0</td>\n",
       "      <td>0</td>\n",
       "      <td>0</td>\n",
       "      <td>0</td>\n",
       "      <td>0</td>\n",
       "    </tr>\n",
       "    <tr>\n",
       "      <th>6403</th>\n",
       "      <td>0</td>\n",
       "      <td>0</td>\n",
       "      <td>0</td>\n",
       "      <td>1</td>\n",
       "      <td>0</td>\n",
       "      <td>0</td>\n",
       "      <td>0</td>\n",
       "      <td>0</td>\n",
       "      <td>0</td>\n",
       "      <td>0</td>\n",
       "      <td>...</td>\n",
       "      <td>0</td>\n",
       "      <td>0</td>\n",
       "      <td>0</td>\n",
       "      <td>0</td>\n",
       "      <td>0</td>\n",
       "      <td>0</td>\n",
       "      <td>0</td>\n",
       "      <td>0</td>\n",
       "      <td>0</td>\n",
       "      <td>0</td>\n",
       "    </tr>\n",
       "    <tr>\n",
       "      <th>6404</th>\n",
       "      <td>0</td>\n",
       "      <td>0</td>\n",
       "      <td>0</td>\n",
       "      <td>1</td>\n",
       "      <td>0</td>\n",
       "      <td>0</td>\n",
       "      <td>0</td>\n",
       "      <td>0</td>\n",
       "      <td>0</td>\n",
       "      <td>0</td>\n",
       "      <td>...</td>\n",
       "      <td>0</td>\n",
       "      <td>0</td>\n",
       "      <td>0</td>\n",
       "      <td>0</td>\n",
       "      <td>0</td>\n",
       "      <td>0</td>\n",
       "      <td>0</td>\n",
       "      <td>0</td>\n",
       "      <td>0</td>\n",
       "      <td>0</td>\n",
       "    </tr>\n",
       "    <tr>\n",
       "      <th>6405</th>\n",
       "      <td>0</td>\n",
       "      <td>0</td>\n",
       "      <td>0</td>\n",
       "      <td>1</td>\n",
       "      <td>0</td>\n",
       "      <td>0</td>\n",
       "      <td>0</td>\n",
       "      <td>0</td>\n",
       "      <td>0</td>\n",
       "      <td>0</td>\n",
       "      <td>...</td>\n",
       "      <td>0</td>\n",
       "      <td>0</td>\n",
       "      <td>0</td>\n",
       "      <td>0</td>\n",
       "      <td>0</td>\n",
       "      <td>0</td>\n",
       "      <td>0</td>\n",
       "      <td>0</td>\n",
       "      <td>0</td>\n",
       "      <td>0</td>\n",
       "    </tr>\n",
       "    <tr>\n",
       "      <th>6406</th>\n",
       "      <td>0</td>\n",
       "      <td>0</td>\n",
       "      <td>0</td>\n",
       "      <td>1</td>\n",
       "      <td>0</td>\n",
       "      <td>0</td>\n",
       "      <td>0</td>\n",
       "      <td>0</td>\n",
       "      <td>0</td>\n",
       "      <td>0</td>\n",
       "      <td>...</td>\n",
       "      <td>0</td>\n",
       "      <td>0</td>\n",
       "      <td>0</td>\n",
       "      <td>0</td>\n",
       "      <td>0</td>\n",
       "      <td>0</td>\n",
       "      <td>0</td>\n",
       "      <td>0</td>\n",
       "      <td>0</td>\n",
       "      <td>0</td>\n",
       "    </tr>\n",
       "  </tbody>\n",
       "</table>\n",
       "<p>6407 rows × 22 columns</p>\n",
       "</div>"
      ],
      "text/plain": [
       "      Clear  Cloudy  Cloudy / Windy  Fair  Fair / Windy  Fog  Haze  \\\n",
       "0         0       0               0     0             0    0     0   \n",
       "1         0       0               0     0             0    0     0   \n",
       "2         0       0               0     0             0    0     0   \n",
       "3         0       0               0     0             0    0     0   \n",
       "4         0       0               0     0             0    0     0   \n",
       "...     ...     ...             ...   ...           ...  ...   ...   \n",
       "6402      0       0               0     1             0    0     0   \n",
       "6403      0       0               0     1             0    0     0   \n",
       "6404      0       0               0     1             0    0     0   \n",
       "6405      0       0               0     1             0    0     0   \n",
       "6406      0       0               0     1             0    0     0   \n",
       "\n",
       "      Heavy Rain  Light Drizzle  Light Rain  ...  Mostly Cloudy / Windy  \\\n",
       "0              0              0           0  ...                      0   \n",
       "1              0              0           0  ...                      0   \n",
       "2              0              0           0  ...                      0   \n",
       "3              0              0           0  ...                      0   \n",
       "4              0              0           0  ...                      0   \n",
       "...          ...            ...         ...  ...                    ...   \n",
       "6402           0              0           0  ...                      0   \n",
       "6403           0              0           0  ...                      0   \n",
       "6404           0              0           0  ...                      0   \n",
       "6405           0              0           0  ...                      0   \n",
       "6406           0              0           0  ...                      0   \n",
       "\n",
       "      Overcast  Partly Cloudy  Partly Cloudy / Windy  Patches of Fog  Rain  \\\n",
       "0            0              0                      0               0     0   \n",
       "1            0              0                      0               0     0   \n",
       "2            0              0                      0               0     0   \n",
       "3            0              0                      0               0     0   \n",
       "4            0              0                      0               0     0   \n",
       "...        ...            ...                    ...             ...   ...   \n",
       "6402         0              0                      0               0     0   \n",
       "6403         0              0                      0               0     0   \n",
       "6404         0              0                      0               0     0   \n",
       "6405         0              0                      0               0     0   \n",
       "6406         0              0                      0               0     0   \n",
       "\n",
       "      Scattered Clouds  Shallow Fog  Smoke  Squalls  \n",
       "0                    1            0      0        0  \n",
       "1                    1            0      0        0  \n",
       "2                    1            0      0        0  \n",
       "3                    1            0      0        0  \n",
       "4                    1            0      0        0  \n",
       "...                ...          ...    ...      ...  \n",
       "6402                 0            0      0        0  \n",
       "6403                 0            0      0        0  \n",
       "6404                 0            0      0        0  \n",
       "6405                 0            0      0        0  \n",
       "6406                 0            0      0        0  \n",
       "\n",
       "[6407 rows x 22 columns]"
      ]
     },
     "execution_count": 34,
     "metadata": {},
     "output_type": "execute_result"
    }
   ],
   "source": [
    "dfy"
   ]
  },
  {
   "cell_type": "code",
   "execution_count": 35,
   "metadata": {},
   "outputs": [
    {
     "data": {
      "text/plain": [
       "Index(['ID', 'Distance(mi)', 'Crossing', 'Junction', 'Railway', 'Stop',\n",
       "       'Amenity', 'Side', 'Severity', 'timestamp', 'new_date_column', 'Year',\n",
       "       'Day', 'Month', 'Hour', 'Temperature(F)', 'Humidity(%)',\n",
       "       'Wind_Speed(mph)', 'Visibility(mi)', 'Selected', 'Clear', 'Cloudy',\n",
       "       'Cloudy / Windy', 'Fair', 'Fair / Windy', 'Fog', 'Haze', 'Heavy Rain',\n",
       "       'Light Drizzle', 'Light Rain', 'Mist', 'Mostly Cloudy',\n",
       "       'Mostly Cloudy / Windy', 'Overcast', 'Partly Cloudy',\n",
       "       'Partly Cloudy / Windy', 'Patches of Fog', 'Rain', 'Scattered Clouds',\n",
       "       'Shallow Fog', 'Smoke', 'Squalls'],\n",
       "      dtype='object')"
      ]
     },
     "execution_count": 35,
     "metadata": {},
     "output_type": "execute_result"
    }
   ],
   "source": [
    "dfx = dfx.drop('Weather_Condition',axis = 1)\n",
    "dfx = dfx.join(dfy)\n",
    "dfx.columns"
   ]
  },
  {
   "cell_type": "code",
   "execution_count": 36,
   "metadata": {},
   "outputs": [
    {
     "name": "stdout",
     "output_type": "stream",
     "text": [
      "<class 'pandas.core.frame.DataFrame'>\n",
      "Int64Index: 6407 entries, 0 to 6406\n",
      "Data columns (total 42 columns):\n",
      " #   Column                 Non-Null Count  Dtype         \n",
      "---  ------                 --------------  -----         \n",
      " 0   ID                     6407 non-null   int64         \n",
      " 1   Distance(mi)           6407 non-null   float64       \n",
      " 2   Crossing               6407 non-null   int32         \n",
      " 3   Junction               6407 non-null   int32         \n",
      " 4   Railway                6407 non-null   int32         \n",
      " 5   Stop                   6407 non-null   int32         \n",
      " 6   Amenity                6407 non-null   int32         \n",
      " 7   Side                   6407 non-null   int64         \n",
      " 8   Severity               6407 non-null   int64         \n",
      " 9   timestamp              6407 non-null   datetime64[ns]\n",
      " 10  new_date_column        6407 non-null   datetime64[ns]\n",
      " 11  Year                   6407 non-null   int64         \n",
      " 12  Day                    6407 non-null   int64         \n",
      " 13  Month                  6407 non-null   int64         \n",
      " 14  Hour                   6407 non-null   int64         \n",
      " 15  Temperature(F)         6407 non-null   float64       \n",
      " 16  Humidity(%)            6407 non-null   float64       \n",
      " 17  Wind_Speed(mph)        6407 non-null   float64       \n",
      " 18  Visibility(mi)         6407 non-null   float64       \n",
      " 19  Selected               6407 non-null   object        \n",
      " 20  Clear                  6407 non-null   uint8         \n",
      " 21  Cloudy                 6407 non-null   uint8         \n",
      " 22  Cloudy / Windy         6407 non-null   uint8         \n",
      " 23  Fair                   6407 non-null   uint8         \n",
      " 24  Fair / Windy           6407 non-null   uint8         \n",
      " 25  Fog                    6407 non-null   uint8         \n",
      " 26  Haze                   6407 non-null   uint8         \n",
      " 27  Heavy Rain             6407 non-null   uint8         \n",
      " 28  Light Drizzle          6407 non-null   uint8         \n",
      " 29  Light Rain             6407 non-null   uint8         \n",
      " 30  Mist                   6407 non-null   uint8         \n",
      " 31  Mostly Cloudy          6407 non-null   uint8         \n",
      " 32  Mostly Cloudy / Windy  6407 non-null   uint8         \n",
      " 33  Overcast               6407 non-null   uint8         \n",
      " 34  Partly Cloudy          6407 non-null   uint8         \n",
      " 35  Partly Cloudy / Windy  6407 non-null   uint8         \n",
      " 36  Patches of Fog         6407 non-null   uint8         \n",
      " 37  Rain                   6407 non-null   uint8         \n",
      " 38  Scattered Clouds       6407 non-null   uint8         \n",
      " 39  Shallow Fog            6407 non-null   uint8         \n",
      " 40  Smoke                  6407 non-null   uint8         \n",
      " 41  Squalls                6407 non-null   uint8         \n",
      "dtypes: datetime64[ns](2), float64(5), int32(5), int64(7), object(1), uint8(22)\n",
      "memory usage: 1.4+ MB\n"
     ]
    }
   ],
   "source": [
    "dfx.info()"
   ]
  },
  {
   "cell_type": "code",
   "execution_count": 37,
   "metadata": {},
   "outputs": [],
   "source": [
    "dfx['Hour'].value_counts()\n",
    "hour = []\n",
    "for i in dfx['Hour']:\n",
    "    if i == 16 or i == 17 or i == 18 or i == 9 or i == 15:\n",
    "        hour.append(5)\n",
    "    elif i == 14 or i ==8 or i ==13 or i==19 or i == 10:\n",
    "        hour.append(4)\n",
    "    elif i == 11 or i ==21 or i ==6 or i == 5:\n",
    "        hour.append(3)\n",
    "    elif i==22 or i==20 or i ==12 or i ==1 or i ==23 or i ==0:\n",
    "        hour.append(2)\n",
    "    else:\n",
    "        hour.append(1)"
   ]
  },
  {
   "cell_type": "code",
   "execution_count": 38,
   "metadata": {},
   "outputs": [
    {
     "name": "stdout",
     "output_type": "stream",
     "text": [
      "<class 'pandas.core.frame.DataFrame'>\n",
      "Int64Index: 6407 entries, 0 to 6406\n",
      "Data columns (total 42 columns):\n",
      " #   Column                 Non-Null Count  Dtype         \n",
      "---  ------                 --------------  -----         \n",
      " 0   ID                     6407 non-null   int64         \n",
      " 1   Distance(mi)           6407 non-null   float64       \n",
      " 2   Crossing               6407 non-null   int32         \n",
      " 3   Junction               6407 non-null   int32         \n",
      " 4   Railway                6407 non-null   int32         \n",
      " 5   Stop                   6407 non-null   int32         \n",
      " 6   Amenity                6407 non-null   int32         \n",
      " 7   Side                   6407 non-null   int64         \n",
      " 8   Severity               6407 non-null   int64         \n",
      " 9   timestamp              6407 non-null   datetime64[ns]\n",
      " 10  new_date_column        6407 non-null   datetime64[ns]\n",
      " 11  Year                   6407 non-null   int64         \n",
      " 12  Day                    6407 non-null   int64         \n",
      " 13  Month                  6407 non-null   int64         \n",
      " 14  Hour                   6407 non-null   int64         \n",
      " 15  Temperature(F)         6407 non-null   float64       \n",
      " 16  Humidity(%)            6407 non-null   float64       \n",
      " 17  Wind_Speed(mph)        6407 non-null   float64       \n",
      " 18  Visibility(mi)         6407 non-null   float64       \n",
      " 19  Selected               6407 non-null   object        \n",
      " 20  Clear                  6407 non-null   uint8         \n",
      " 21  Cloudy                 6407 non-null   uint8         \n",
      " 22  Cloudy / Windy         6407 non-null   uint8         \n",
      " 23  Fair                   6407 non-null   uint8         \n",
      " 24  Fair / Windy           6407 non-null   uint8         \n",
      " 25  Fog                    6407 non-null   uint8         \n",
      " 26  Haze                   6407 non-null   uint8         \n",
      " 27  Heavy Rain             6407 non-null   uint8         \n",
      " 28  Light Drizzle          6407 non-null   uint8         \n",
      " 29  Light Rain             6407 non-null   uint8         \n",
      " 30  Mist                   6407 non-null   uint8         \n",
      " 31  Mostly Cloudy          6407 non-null   uint8         \n",
      " 32  Mostly Cloudy / Windy  6407 non-null   uint8         \n",
      " 33  Overcast               6407 non-null   uint8         \n",
      " 34  Partly Cloudy          6407 non-null   uint8         \n",
      " 35  Partly Cloudy / Windy  6407 non-null   uint8         \n",
      " 36  Patches of Fog         6407 non-null   uint8         \n",
      " 37  Rain                   6407 non-null   uint8         \n",
      " 38  Scattered Clouds       6407 non-null   uint8         \n",
      " 39  Shallow Fog            6407 non-null   uint8         \n",
      " 40  Smoke                  6407 non-null   uint8         \n",
      " 41  Squalls                6407 non-null   uint8         \n",
      "dtypes: datetime64[ns](2), float64(5), int32(5), int64(7), object(1), uint8(22)\n",
      "memory usage: 1.4+ MB\n"
     ]
    }
   ],
   "source": [
    "dfx.info()"
   ]
  },
  {
   "cell_type": "code",
   "execution_count": 39,
   "metadata": {},
   "outputs": [],
   "source": [
    "dfx['hour_priority'] = hour"
   ]
  },
  {
   "cell_type": "code",
   "execution_count": 40,
   "metadata": {},
   "outputs": [
    {
     "name": "stdout",
     "output_type": "stream",
     "text": [
      "<class 'pandas.core.frame.DataFrame'>\n",
      "Int64Index: 6407 entries, 0 to 6406\n",
      "Data columns (total 43 columns):\n",
      " #   Column                 Non-Null Count  Dtype         \n",
      "---  ------                 --------------  -----         \n",
      " 0   ID                     6407 non-null   int64         \n",
      " 1   Distance(mi)           6407 non-null   float64       \n",
      " 2   Crossing               6407 non-null   int32         \n",
      " 3   Junction               6407 non-null   int32         \n",
      " 4   Railway                6407 non-null   int32         \n",
      " 5   Stop                   6407 non-null   int32         \n",
      " 6   Amenity                6407 non-null   int32         \n",
      " 7   Side                   6407 non-null   int64         \n",
      " 8   Severity               6407 non-null   int64         \n",
      " 9   timestamp              6407 non-null   datetime64[ns]\n",
      " 10  new_date_column        6407 non-null   datetime64[ns]\n",
      " 11  Year                   6407 non-null   int64         \n",
      " 12  Day                    6407 non-null   int64         \n",
      " 13  Month                  6407 non-null   int64         \n",
      " 14  Hour                   6407 non-null   int64         \n",
      " 15  Temperature(F)         6407 non-null   float64       \n",
      " 16  Humidity(%)            6407 non-null   float64       \n",
      " 17  Wind_Speed(mph)        6407 non-null   float64       \n",
      " 18  Visibility(mi)         6407 non-null   float64       \n",
      " 19  Selected               6407 non-null   object        \n",
      " 20  Clear                  6407 non-null   uint8         \n",
      " 21  Cloudy                 6407 non-null   uint8         \n",
      " 22  Cloudy / Windy         6407 non-null   uint8         \n",
      " 23  Fair                   6407 non-null   uint8         \n",
      " 24  Fair / Windy           6407 non-null   uint8         \n",
      " 25  Fog                    6407 non-null   uint8         \n",
      " 26  Haze                   6407 non-null   uint8         \n",
      " 27  Heavy Rain             6407 non-null   uint8         \n",
      " 28  Light Drizzle          6407 non-null   uint8         \n",
      " 29  Light Rain             6407 non-null   uint8         \n",
      " 30  Mist                   6407 non-null   uint8         \n",
      " 31  Mostly Cloudy          6407 non-null   uint8         \n",
      " 32  Mostly Cloudy / Windy  6407 non-null   uint8         \n",
      " 33  Overcast               6407 non-null   uint8         \n",
      " 34  Partly Cloudy          6407 non-null   uint8         \n",
      " 35  Partly Cloudy / Windy  6407 non-null   uint8         \n",
      " 36  Patches of Fog         6407 non-null   uint8         \n",
      " 37  Rain                   6407 non-null   uint8         \n",
      " 38  Scattered Clouds       6407 non-null   uint8         \n",
      " 39  Shallow Fog            6407 non-null   uint8         \n",
      " 40  Smoke                  6407 non-null   uint8         \n",
      " 41  Squalls                6407 non-null   uint8         \n",
      " 42  hour_priority          6407 non-null   int64         \n",
      "dtypes: datetime64[ns](2), float64(5), int32(5), int64(8), object(1), uint8(22)\n",
      "memory usage: 1.4+ MB\n"
     ]
    }
   ],
   "source": [
    "dfx.info()"
   ]
  },
  {
   "cell_type": "code",
   "execution_count": 41,
   "metadata": {},
   "outputs": [],
   "source": [
    "dfx['cloudy'] = dfx['Cloudy'] + dfx['Cloudy / Windy'] + dfx['Mostly Cloudy'] + dfx['Mostly Cloudy / Windy'] + dfx['Partly Cloudy'] + dfx['Partly Cloudy / Windy']"
   ]
  },
  {
   "cell_type": "code",
   "execution_count": 42,
   "metadata": {},
   "outputs": [],
   "source": [
    "dlist= ['Cloudy' ,'Cloudy / Windy' , 'Mostly Cloudy','Mostly Cloudy / Windy','Partly Cloudy','Partly Cloudy / Windy']\n",
    "dfx.drop(dlist, axis=1, inplace=True)"
   ]
  },
  {
   "cell_type": "code",
   "execution_count": 43,
   "metadata": {},
   "outputs": [],
   "source": [
    "dfx['rain'] = dfx['Heavy Rain'] + dfx['Light Rain'] + dfx['Rain'] \n",
    "dfx['fog'] = dfx['Fog'] + dfx['Patches of Fog'] + dfx['Shallow Fog'] \n",
    "dfx['fair'] = dfx['Fair'] + dfx['Fair / Windy'] + dfx['Clear']\n",
    "dfx['drizzle'] = dfx['Light Drizzle'] + dfx['Mist'] + dfx['Squalls']\n",
    "dfx['smoke'] = dfx['Scattered Clouds'] + dfx['Overcast'] + dfx['Smoke'] + dfx['Haze']\n",
    "\n",
    "llist = ['Heavy Rain','Light Rain','Rain','Fog','Patches of Fog','Shallow Fog','Fair','Fair / Windy','Clear','Light Drizzle','Mist','Squalls',\n",
    "        'Scattered Clouds','Overcast','Smoke','Haze']\n",
    "dfx.drop(llist, axis=1, inplace=True)"
   ]
  },
  {
   "cell_type": "code",
   "execution_count": 44,
   "metadata": {},
   "outputs": [],
   "source": [
    "duplicate = dfx[dfx.duplicated()]\n",
    "dfx.drop_duplicates(keep='first', inplace=True)"
   ]
  },
  {
   "cell_type": "code",
   "execution_count": 45,
   "metadata": {},
   "outputs": [],
   "source": [
    "dfx.drop(['Selected','timestamp'],axis=1, inplace=True)"
   ]
  },
  {
   "cell_type": "code",
   "execution_count": 46,
   "metadata": {},
   "outputs": [
    {
     "name": "stdout",
     "output_type": "stream",
     "text": [
      "<class 'pandas.core.frame.DataFrame'>\n",
      "Int64Index: 6407 entries, 0 to 6406\n",
      "Data columns (total 25 columns):\n",
      " #   Column           Non-Null Count  Dtype         \n",
      "---  ------           --------------  -----         \n",
      " 0   ID               6407 non-null   int64         \n",
      " 1   Distance(mi)     6407 non-null   float64       \n",
      " 2   Crossing         6407 non-null   int32         \n",
      " 3   Junction         6407 non-null   int32         \n",
      " 4   Railway          6407 non-null   int32         \n",
      " 5   Stop             6407 non-null   int32         \n",
      " 6   Amenity          6407 non-null   int32         \n",
      " 7   Side             6407 non-null   int64         \n",
      " 8   Severity         6407 non-null   int64         \n",
      " 9   new_date_column  6407 non-null   datetime64[ns]\n",
      " 10  Year             6407 non-null   int64         \n",
      " 11  Day              6407 non-null   int64         \n",
      " 12  Month            6407 non-null   int64         \n",
      " 13  Hour             6407 non-null   int64         \n",
      " 14  Temperature(F)   6407 non-null   float64       \n",
      " 15  Humidity(%)      6407 non-null   float64       \n",
      " 16  Wind_Speed(mph)  6407 non-null   float64       \n",
      " 17  Visibility(mi)   6407 non-null   float64       \n",
      " 18  hour_priority    6407 non-null   int64         \n",
      " 19  cloudy           6407 non-null   uint8         \n",
      " 20  rain             6407 non-null   uint8         \n",
      " 21  fog              6407 non-null   uint8         \n",
      " 22  fair             6407 non-null   uint8         \n",
      " 23  drizzle          6407 non-null   uint8         \n",
      " 24  smoke            6407 non-null   uint8         \n",
      "dtypes: datetime64[ns](1), float64(5), int32(5), int64(8), uint8(6)\n",
      "memory usage: 913.5 KB\n"
     ]
    }
   ],
   "source": [
    "dfx.info()"
   ]
  },
  {
   "cell_type": "code",
   "execution_count": 47,
   "metadata": {},
   "outputs": [
    {
     "data": {
      "text/plain": [
       "(array([ 129.,    0.,    0., 4346.,    0.,    0., 1855.,    0.,    0.,\n",
       "          77.]),\n",
       " array([1. , 1.3, 1.6, 1.9, 2.2, 2.5, 2.8, 3.1, 3.4, 3.7, 4. ]),\n",
       " <BarContainer object of 10 artists>)"
      ]
     },
     "execution_count": 47,
     "metadata": {},
     "output_type": "execute_result"
    },
    {
     "data": {
      "image/png": "[encoded data removed]",
      "text/plain": [
       "<Figure size 432x288 with 1 Axes>"
      ]
     },
     "metadata": {
      "needs_background": "light"
     },
     "output_type": "display_data"
    }
   ],
   "source": [
    "plt.hist(dfx['Severity'])"
   ]
  },
  {
   "cell_type": "code",
   "execution_count": 48,
   "metadata": {},
   "outputs": [
    {
     "data": {
      "text/plain": [
       "2    4346\n",
       "3    1855\n",
       "1     129\n",
       "4      77\n",
       "Name: Severity, dtype: int64"
      ]
     },
     "execution_count": 48,
     "metadata": {},
     "output_type": "execute_result"
    }
   ],
   "source": [
    "dfx['Severity'].value_counts()"
   ]
  },
  {
   "cell_type": "code",
   "execution_count": 49,
   "metadata": {},
   "outputs": [],
   "source": [
    "#listt=[]\n",
    "#for i in  dfx['new_date_column']:\n",
    "    # listt.append(i.strftime('%y/%m/%d'))\n",
    "#dfx['New_data_col'] = listt"
   ]
  },
  {
   "cell_type": "code",
   "execution_count": 50,
   "metadata": {
    "scrolled": false
   },
   "outputs": [
    {
     "data": {
      "text/html": [
       "<div>\n",
       "<style scoped>\n",
       "    .dataframe tbody tr th:only-of-type {\n",
       "        vertical-align: middle;\n",
       "    }\n",
       "\n",
       "    .dataframe tbody tr th {\n",
       "        vertical-align: top;\n",
       "    }\n",
       "\n",
       "    .dataframe thead th {\n",
       "        text-align: right;\n",
       "    }\n",
       "</style>\n",
       "<table border=\"1\" class=\"dataframe\">\n",
       "  <thead>\n",
       "    <tr style=\"text-align: right;\">\n",
       "      <th></th>\n",
       "      <th>ID</th>\n",
       "      <th>Distance(mi)</th>\n",
       "      <th>Crossing</th>\n",
       "      <th>Junction</th>\n",
       "      <th>Railway</th>\n",
       "      <th>Stop</th>\n",
       "      <th>Amenity</th>\n",
       "      <th>Side</th>\n",
       "      <th>Severity</th>\n",
       "      <th>new_date_column</th>\n",
       "      <th>...</th>\n",
       "      <th>Wind_Speed(mph)</th>\n",
       "      <th>Visibility(mi)</th>\n",
       "      <th>hour_priority</th>\n",
       "      <th>cloudy</th>\n",
       "      <th>rain</th>\n",
       "      <th>fog</th>\n",
       "      <th>fair</th>\n",
       "      <th>drizzle</th>\n",
       "      <th>smoke</th>\n",
       "      <th>New_data_col</th>\n",
       "    </tr>\n",
       "  </thead>\n",
       "  <tbody>\n",
       "    <tr>\n",
       "      <th>0</th>\n",
       "      <td>3657</td>\n",
       "      <td>0.000</td>\n",
       "      <td>0</td>\n",
       "      <td>1</td>\n",
       "      <td>0</td>\n",
       "      <td>0</td>\n",
       "      <td>0</td>\n",
       "      <td>0</td>\n",
       "      <td>2</td>\n",
       "      <td>2016-03-23</td>\n",
       "      <td>...</td>\n",
       "      <td>12.7</td>\n",
       "      <td>10.0</td>\n",
       "      <td>2</td>\n",
       "      <td>0</td>\n",
       "      <td>0</td>\n",
       "      <td>0</td>\n",
       "      <td>0</td>\n",
       "      <td>0</td>\n",
       "      <td>1</td>\n",
       "      <td>0</td>\n",
       "    </tr>\n",
       "    <tr>\n",
       "      <th>1</th>\n",
       "      <td>3724</td>\n",
       "      <td>0.010</td>\n",
       "      <td>0</td>\n",
       "      <td>0</td>\n",
       "      <td>0</td>\n",
       "      <td>0</td>\n",
       "      <td>0</td>\n",
       "      <td>0</td>\n",
       "      <td>3</td>\n",
       "      <td>2016-03-23</td>\n",
       "      <td>...</td>\n",
       "      <td>12.7</td>\n",
       "      <td>10.0</td>\n",
       "      <td>2</td>\n",
       "      <td>0</td>\n",
       "      <td>0</td>\n",
       "      <td>0</td>\n",
       "      <td>0</td>\n",
       "      <td>0</td>\n",
       "      <td>1</td>\n",
       "      <td>0</td>\n",
       "    </tr>\n",
       "    <tr>\n",
       "      <th>2</th>\n",
       "      <td>6024</td>\n",
       "      <td>0.150</td>\n",
       "      <td>0</td>\n",
       "      <td>1</td>\n",
       "      <td>0</td>\n",
       "      <td>0</td>\n",
       "      <td>0</td>\n",
       "      <td>0</td>\n",
       "      <td>2</td>\n",
       "      <td>2016-03-23</td>\n",
       "      <td>...</td>\n",
       "      <td>12.7</td>\n",
       "      <td>10.0</td>\n",
       "      <td>2</td>\n",
       "      <td>0</td>\n",
       "      <td>0</td>\n",
       "      <td>0</td>\n",
       "      <td>0</td>\n",
       "      <td>0</td>\n",
       "      <td>1</td>\n",
       "      <td>0</td>\n",
       "    </tr>\n",
       "    <tr>\n",
       "      <th>3</th>\n",
       "      <td>985</td>\n",
       "      <td>0.039</td>\n",
       "      <td>0</td>\n",
       "      <td>1</td>\n",
       "      <td>0</td>\n",
       "      <td>0</td>\n",
       "      <td>0</td>\n",
       "      <td>0</td>\n",
       "      <td>2</td>\n",
       "      <td>2016-03-24</td>\n",
       "      <td>...</td>\n",
       "      <td>21.9</td>\n",
       "      <td>10.0</td>\n",
       "      <td>5</td>\n",
       "      <td>0</td>\n",
       "      <td>0</td>\n",
       "      <td>0</td>\n",
       "      <td>0</td>\n",
       "      <td>0</td>\n",
       "      <td>1</td>\n",
       "      <td>1</td>\n",
       "    </tr>\n",
       "    <tr>\n",
       "      <th>4</th>\n",
       "      <td>1960</td>\n",
       "      <td>0.010</td>\n",
       "      <td>0</td>\n",
       "      <td>1</td>\n",
       "      <td>0</td>\n",
       "      <td>0</td>\n",
       "      <td>0</td>\n",
       "      <td>0</td>\n",
       "      <td>3</td>\n",
       "      <td>2016-03-24</td>\n",
       "      <td>...</td>\n",
       "      <td>21.9</td>\n",
       "      <td>10.0</td>\n",
       "      <td>5</td>\n",
       "      <td>0</td>\n",
       "      <td>0</td>\n",
       "      <td>0</td>\n",
       "      <td>0</td>\n",
       "      <td>0</td>\n",
       "      <td>1</td>\n",
       "      <td>1</td>\n",
       "    </tr>\n",
       "    <tr>\n",
       "      <th>...</th>\n",
       "      <td>...</td>\n",
       "      <td>...</td>\n",
       "      <td>...</td>\n",
       "      <td>...</td>\n",
       "      <td>...</td>\n",
       "      <td>...</td>\n",
       "      <td>...</td>\n",
       "      <td>...</td>\n",
       "      <td>...</td>\n",
       "      <td>...</td>\n",
       "      <td>...</td>\n",
       "      <td>...</td>\n",
       "      <td>...</td>\n",
       "      <td>...</td>\n",
       "      <td>...</td>\n",
       "      <td>...</td>\n",
       "      <td>...</td>\n",
       "      <td>...</td>\n",
       "      <td>...</td>\n",
       "      <td>...</td>\n",
       "      <td>...</td>\n",
       "    </tr>\n",
       "    <tr>\n",
       "      <th>6402</th>\n",
       "      <td>401</td>\n",
       "      <td>1.118</td>\n",
       "      <td>0</td>\n",
       "      <td>0</td>\n",
       "      <td>0</td>\n",
       "      <td>0</td>\n",
       "      <td>0</td>\n",
       "      <td>0</td>\n",
       "      <td>2</td>\n",
       "      <td>2020-12-31</td>\n",
       "      <td>...</td>\n",
       "      <td>12.0</td>\n",
       "      <td>8.0</td>\n",
       "      <td>1</td>\n",
       "      <td>0</td>\n",
       "      <td>0</td>\n",
       "      <td>0</td>\n",
       "      <td>1</td>\n",
       "      <td>0</td>\n",
       "      <td>0</td>\n",
       "      <td>1534</td>\n",
       "    </tr>\n",
       "    <tr>\n",
       "      <th>6403</th>\n",
       "      <td>3832</td>\n",
       "      <td>0.106</td>\n",
       "      <td>0</td>\n",
       "      <td>0</td>\n",
       "      <td>0</td>\n",
       "      <td>0</td>\n",
       "      <td>0</td>\n",
       "      <td>0</td>\n",
       "      <td>2</td>\n",
       "      <td>2020-12-31</td>\n",
       "      <td>...</td>\n",
       "      <td>12.0</td>\n",
       "      <td>8.0</td>\n",
       "      <td>1</td>\n",
       "      <td>0</td>\n",
       "      <td>0</td>\n",
       "      <td>0</td>\n",
       "      <td>1</td>\n",
       "      <td>0</td>\n",
       "      <td>0</td>\n",
       "      <td>1534</td>\n",
       "    </tr>\n",
       "    <tr>\n",
       "      <th>6404</th>\n",
       "      <td>3152</td>\n",
       "      <td>0.397</td>\n",
       "      <td>0</td>\n",
       "      <td>0</td>\n",
       "      <td>0</td>\n",
       "      <td>0</td>\n",
       "      <td>0</td>\n",
       "      <td>0</td>\n",
       "      <td>2</td>\n",
       "      <td>2020-12-31</td>\n",
       "      <td>...</td>\n",
       "      <td>12.0</td>\n",
       "      <td>8.0</td>\n",
       "      <td>1</td>\n",
       "      <td>0</td>\n",
       "      <td>0</td>\n",
       "      <td>0</td>\n",
       "      <td>1</td>\n",
       "      <td>0</td>\n",
       "      <td>0</td>\n",
       "      <td>1534</td>\n",
       "    </tr>\n",
       "    <tr>\n",
       "      <th>6405</th>\n",
       "      <td>6375</td>\n",
       "      <td>0.043</td>\n",
       "      <td>0</td>\n",
       "      <td>0</td>\n",
       "      <td>0</td>\n",
       "      <td>0</td>\n",
       "      <td>0</td>\n",
       "      <td>0</td>\n",
       "      <td>2</td>\n",
       "      <td>2020-12-31</td>\n",
       "      <td>...</td>\n",
       "      <td>12.0</td>\n",
       "      <td>8.0</td>\n",
       "      <td>1</td>\n",
       "      <td>0</td>\n",
       "      <td>0</td>\n",
       "      <td>0</td>\n",
       "      <td>1</td>\n",
       "      <td>0</td>\n",
       "      <td>0</td>\n",
       "      <td>1534</td>\n",
       "    </tr>\n",
       "    <tr>\n",
       "      <th>6406</th>\n",
       "      <td>2202</td>\n",
       "      <td>0.000</td>\n",
       "      <td>0</td>\n",
       "      <td>0</td>\n",
       "      <td>0</td>\n",
       "      <td>1</td>\n",
       "      <td>0</td>\n",
       "      <td>0</td>\n",
       "      <td>2</td>\n",
       "      <td>2020-12-31</td>\n",
       "      <td>...</td>\n",
       "      <td>12.0</td>\n",
       "      <td>8.0</td>\n",
       "      <td>1</td>\n",
       "      <td>0</td>\n",
       "      <td>0</td>\n",
       "      <td>0</td>\n",
       "      <td>1</td>\n",
       "      <td>0</td>\n",
       "      <td>0</td>\n",
       "      <td>1534</td>\n",
       "    </tr>\n",
       "  </tbody>\n",
       "</table>\n",
       "<p>6407 rows × 26 columns</p>\n",
       "</div>"
      ],
      "text/plain": [
       "        ID  Distance(mi)  Crossing  Junction  Railway  Stop  Amenity  Side  \\\n",
       "0     3657         0.000         0         1        0     0        0     0   \n",
       "1     3724         0.010         0         0        0     0        0     0   \n",
       "2     6024         0.150         0         1        0     0        0     0   \n",
       "3      985         0.039         0         1        0     0        0     0   \n",
       "4     1960         0.010         0         1        0     0        0     0   \n",
       "...    ...           ...       ...       ...      ...   ...      ...   ...   \n",
       "6402   401         1.118         0         0        0     0        0     0   \n",
       "6403  3832         0.106         0         0        0     0        0     0   \n",
       "6404  3152         0.397         0         0        0     0        0     0   \n",
       "6405  6375         0.043         0         0        0     0        0     0   \n",
       "6406  2202         0.000         0         0        0     1        0     0   \n",
       "\n",
       "      Severity new_date_column  ...  Wind_Speed(mph)  Visibility(mi)  \\\n",
       "0            2      2016-03-23  ...             12.7            10.0   \n",
       "1            3      2016-03-23  ...             12.7            10.0   \n",
       "2            2      2016-03-23  ...             12.7            10.0   \n",
       "3            2      2016-03-24  ...             21.9            10.0   \n",
       "4            3      2016-03-24  ...             21.9            10.0   \n",
       "...        ...             ...  ...              ...             ...   \n",
       "6402         2      2020-12-31  ...             12.0             8.0   \n",
       "6403         2      2020-12-31  ...             12.0             8.0   \n",
       "6404         2      2020-12-31  ...             12.0             8.0   \n",
       "6405         2      2020-12-31  ...             12.0             8.0   \n",
       "6406         2      2020-12-31  ...             12.0             8.0   \n",
       "\n",
       "      hour_priority  cloudy  rain  fog  fair  drizzle  smoke  New_data_col  \n",
       "0                 2       0     0    0     0        0      1             0  \n",
       "1                 2       0     0    0     0        0      1             0  \n",
       "2                 2       0     0    0     0        0      1             0  \n",
       "3                 5       0     0    0     0        0      1             1  \n",
       "4                 5       0     0    0     0        0      1             1  \n",
       "...             ...     ...   ...  ...   ...      ...    ...           ...  \n",
       "6402              1       0     0    0     1        0      0          1534  \n",
       "6403              1       0     0    0     1        0      0          1534  \n",
       "6404              1       0     0    0     1        0      0          1534  \n",
       "6405              1       0     0    0     1        0      0          1534  \n",
       "6406              1       0     0    0     1        0      0          1534  \n",
       "\n",
       "[6407 rows x 26 columns]"
      ]
     },
     "execution_count": 50,
     "metadata": {},
     "output_type": "execute_result"
    }
   ],
   "source": [
    "from sklearn.preprocessing import LabelEncoder\n",
    "labelencoder = LabelEncoder()\n",
    "# Assigning numerical values and storing in another column\n",
    "dfx['New_data_col'] = labelencoder.fit_transform(dfx['new_date_column'])\n",
    "dfx"
   ]
  },
  {
   "cell_type": "code",
   "execution_count": 51,
   "metadata": {
    "scrolled": true
   },
   "outputs": [
    {
     "data": {
      "text/plain": [
       "10.0    520\n",
       "0.0     362\n",
       "15.0    360\n",
       "5.0     288\n",
       "3.5     263\n",
       "5.8     255\n",
       "8.0     243\n",
       "3.0     230\n",
       "12.0    210\n",
       "7.0     210\n",
       "10.4    206\n",
       "8.1     205\n",
       "11.5    204\n",
       "4.6     203\n",
       "17.3    192\n",
       "6.0     191\n",
       "6.9     186\n",
       "14.0    185\n",
       "9.2     171\n",
       "9.0     149\n",
       "12.7    143\n",
       "13.8    138\n",
       "13.0    133\n",
       "16.1    119\n",
       "16.0    116\n",
       "18.4    115\n",
       "23.0    109\n",
       "20.0    105\n",
       "18.0    100\n",
       "17.0     74\n",
       "21.9     69\n",
       "20.7     60\n",
       "19.6     55\n",
       "21.0     52\n",
       "22.0     37\n",
       "24.2     29\n",
       "26.5     20\n",
       "27.6     19\n",
       "25.3     17\n",
       "26.0     16\n",
       "25.0     11\n",
       "28.0     11\n",
       "28.8      9\n",
       "36.8      6\n",
       "32.2      3\n",
       "33.4      3\n",
       "29.0      2\n",
       "31.0      1\n",
       "24.0      1\n",
       "30.0      1\n",
       "Name: Wind_Speed(mph), dtype: int64"
      ]
     },
     "execution_count": 51,
     "metadata": {},
     "output_type": "execute_result"
    },
    {
     "data": {
      "image/png": "[encoded data removed]",
      "text/plain": [
       "<Figure size 1800x576 with 1 Axes>"
      ]
     },
     "metadata": {
      "needs_background": "light"
     },
     "output_type": "display_data"
    }
   ],
   "source": [
    "fig, ax = plt.subplots(figsize=(25, 8))\n",
    "sns.lineplot(ax=ax, data=dfx , x='Distance(mi)', y='Severity')\n",
    "dfx['Wind_Speed(mph)'].value_counts()"
   ]
  },
  {
   "cell_type": "code",
   "execution_count": 52,
   "metadata": {},
   "outputs": [],
   "source": [
    "temp = []\n",
    "for i in dfx['Temperature(F)']:\n",
    "    if (i > 20 and i <= 45) or (i > 86 and i <96 ) :\n",
    "        temp.append(10)\n",
    "    elif i > 45 and i <= 60:\n",
    "        temp.append(7)\n",
    "    elif i > 60 and i <= 86:\n",
    "        temp.append(4)\n",
    "    else:\n",
    "        temp.append(1)"
   ]
  },
  {
   "cell_type": "code",
   "execution_count": 53,
   "metadata": {},
   "outputs": [],
   "source": [
    "dfx['temp_priority'] = temp\n",
    "dfx.drop(['Temperature(F)'], axis=1, inplace=True)"
   ]
  },
  {
   "cell_type": "code",
   "execution_count": 54,
   "metadata": {},
   "outputs": [],
   "source": [
    "dfx.drop(['new_date_column'],axis=1 ,inplace =True)"
   ]
  },
  {
   "cell_type": "code",
   "execution_count": 55,
   "metadata": {},
   "outputs": [
    {
     "data": {
      "text/html": [
       "<div>\n",
       "<style scoped>\n",
       "    .dataframe tbody tr th:only-of-type {\n",
       "        vertical-align: middle;\n",
       "    }\n",
       "\n",
       "    .dataframe tbody tr th {\n",
       "        vertical-align: top;\n",
       "    }\n",
       "\n",
       "    .dataframe thead th {\n",
       "        text-align: right;\n",
       "    }\n",
       "</style>\n",
       "<table border=\"1\" class=\"dataframe\">\n",
       "  <thead>\n",
       "    <tr style=\"text-align: right;\">\n",
       "      <th></th>\n",
       "      <th>ID</th>\n",
       "      <th>Distance(mi)</th>\n",
       "      <th>Crossing</th>\n",
       "      <th>Junction</th>\n",
       "      <th>Railway</th>\n",
       "      <th>Stop</th>\n",
       "      <th>Amenity</th>\n",
       "      <th>Side</th>\n",
       "      <th>Year</th>\n",
       "      <th>Day</th>\n",
       "      <th>...</th>\n",
       "      <th>Visibility(mi)</th>\n",
       "      <th>hour_priority</th>\n",
       "      <th>cloudy</th>\n",
       "      <th>rain</th>\n",
       "      <th>fog</th>\n",
       "      <th>fair</th>\n",
       "      <th>drizzle</th>\n",
       "      <th>smoke</th>\n",
       "      <th>New_data_col</th>\n",
       "      <th>temp_priority</th>\n",
       "    </tr>\n",
       "  </thead>\n",
       "  <tbody>\n",
       "    <tr>\n",
       "      <th>0</th>\n",
       "      <td>3657</td>\n",
       "      <td>0.000</td>\n",
       "      <td>0</td>\n",
       "      <td>1</td>\n",
       "      <td>0</td>\n",
       "      <td>0</td>\n",
       "      <td>0</td>\n",
       "      <td>0</td>\n",
       "      <td>2016</td>\n",
       "      <td>23</td>\n",
       "      <td>...</td>\n",
       "      <td>10.0</td>\n",
       "      <td>2</td>\n",
       "      <td>0</td>\n",
       "      <td>0</td>\n",
       "      <td>0</td>\n",
       "      <td>0</td>\n",
       "      <td>0</td>\n",
       "      <td>1</td>\n",
       "      <td>0</td>\n",
       "      <td>7</td>\n",
       "    </tr>\n",
       "    <tr>\n",
       "      <th>1</th>\n",
       "      <td>3724</td>\n",
       "      <td>0.010</td>\n",
       "      <td>0</td>\n",
       "      <td>0</td>\n",
       "      <td>0</td>\n",
       "      <td>0</td>\n",
       "      <td>0</td>\n",
       "      <td>0</td>\n",
       "      <td>2016</td>\n",
       "      <td>23</td>\n",
       "      <td>...</td>\n",
       "      <td>10.0</td>\n",
       "      <td>2</td>\n",
       "      <td>0</td>\n",
       "      <td>0</td>\n",
       "      <td>0</td>\n",
       "      <td>0</td>\n",
       "      <td>0</td>\n",
       "      <td>1</td>\n",
       "      <td>0</td>\n",
       "      <td>7</td>\n",
       "    </tr>\n",
       "    <tr>\n",
       "      <th>2</th>\n",
       "      <td>6024</td>\n",
       "      <td>0.150</td>\n",
       "      <td>0</td>\n",
       "      <td>1</td>\n",
       "      <td>0</td>\n",
       "      <td>0</td>\n",
       "      <td>0</td>\n",
       "      <td>0</td>\n",
       "      <td>2016</td>\n",
       "      <td>23</td>\n",
       "      <td>...</td>\n",
       "      <td>10.0</td>\n",
       "      <td>2</td>\n",
       "      <td>0</td>\n",
       "      <td>0</td>\n",
       "      <td>0</td>\n",
       "      <td>0</td>\n",
       "      <td>0</td>\n",
       "      <td>1</td>\n",
       "      <td>0</td>\n",
       "      <td>7</td>\n",
       "    </tr>\n",
       "    <tr>\n",
       "      <th>3</th>\n",
       "      <td>985</td>\n",
       "      <td>0.039</td>\n",
       "      <td>0</td>\n",
       "      <td>1</td>\n",
       "      <td>0</td>\n",
       "      <td>0</td>\n",
       "      <td>0</td>\n",
       "      <td>0</td>\n",
       "      <td>2016</td>\n",
       "      <td>24</td>\n",
       "      <td>...</td>\n",
       "      <td>10.0</td>\n",
       "      <td>5</td>\n",
       "      <td>0</td>\n",
       "      <td>0</td>\n",
       "      <td>0</td>\n",
       "      <td>0</td>\n",
       "      <td>0</td>\n",
       "      <td>1</td>\n",
       "      <td>1</td>\n",
       "      <td>7</td>\n",
       "    </tr>\n",
       "    <tr>\n",
       "      <th>4</th>\n",
       "      <td>1960</td>\n",
       "      <td>0.010</td>\n",
       "      <td>0</td>\n",
       "      <td>1</td>\n",
       "      <td>0</td>\n",
       "      <td>0</td>\n",
       "      <td>0</td>\n",
       "      <td>0</td>\n",
       "      <td>2016</td>\n",
       "      <td>24</td>\n",
       "      <td>...</td>\n",
       "      <td>10.0</td>\n",
       "      <td>5</td>\n",
       "      <td>0</td>\n",
       "      <td>0</td>\n",
       "      <td>0</td>\n",
       "      <td>0</td>\n",
       "      <td>0</td>\n",
       "      <td>1</td>\n",
       "      <td>1</td>\n",
       "      <td>7</td>\n",
       "    </tr>\n",
       "    <tr>\n",
       "      <th>...</th>\n",
       "      <td>...</td>\n",
       "      <td>...</td>\n",
       "      <td>...</td>\n",
       "      <td>...</td>\n",
       "      <td>...</td>\n",
       "      <td>...</td>\n",
       "      <td>...</td>\n",
       "      <td>...</td>\n",
       "      <td>...</td>\n",
       "      <td>...</td>\n",
       "      <td>...</td>\n",
       "      <td>...</td>\n",
       "      <td>...</td>\n",
       "      <td>...</td>\n",
       "      <td>...</td>\n",
       "      <td>...</td>\n",
       "      <td>...</td>\n",
       "      <td>...</td>\n",
       "      <td>...</td>\n",
       "      <td>...</td>\n",
       "      <td>...</td>\n",
       "    </tr>\n",
       "    <tr>\n",
       "      <th>6402</th>\n",
       "      <td>401</td>\n",
       "      <td>1.118</td>\n",
       "      <td>0</td>\n",
       "      <td>0</td>\n",
       "      <td>0</td>\n",
       "      <td>0</td>\n",
       "      <td>0</td>\n",
       "      <td>0</td>\n",
       "      <td>2020</td>\n",
       "      <td>31</td>\n",
       "      <td>...</td>\n",
       "      <td>8.0</td>\n",
       "      <td>1</td>\n",
       "      <td>0</td>\n",
       "      <td>0</td>\n",
       "      <td>0</td>\n",
       "      <td>1</td>\n",
       "      <td>0</td>\n",
       "      <td>0</td>\n",
       "      <td>1534</td>\n",
       "      <td>7</td>\n",
       "    </tr>\n",
       "    <tr>\n",
       "      <th>6403</th>\n",
       "      <td>3832</td>\n",
       "      <td>0.106</td>\n",
       "      <td>0</td>\n",
       "      <td>0</td>\n",
       "      <td>0</td>\n",
       "      <td>0</td>\n",
       "      <td>0</td>\n",
       "      <td>0</td>\n",
       "      <td>2020</td>\n",
       "      <td>31</td>\n",
       "      <td>...</td>\n",
       "      <td>8.0</td>\n",
       "      <td>1</td>\n",
       "      <td>0</td>\n",
       "      <td>0</td>\n",
       "      <td>0</td>\n",
       "      <td>1</td>\n",
       "      <td>0</td>\n",
       "      <td>0</td>\n",
       "      <td>1534</td>\n",
       "      <td>7</td>\n",
       "    </tr>\n",
       "    <tr>\n",
       "      <th>6404</th>\n",
       "      <td>3152</td>\n",
       "      <td>0.397</td>\n",
       "      <td>0</td>\n",
       "      <td>0</td>\n",
       "      <td>0</td>\n",
       "      <td>0</td>\n",
       "      <td>0</td>\n",
       "      <td>0</td>\n",
       "      <td>2020</td>\n",
       "      <td>31</td>\n",
       "      <td>...</td>\n",
       "      <td>8.0</td>\n",
       "      <td>1</td>\n",
       "      <td>0</td>\n",
       "      <td>0</td>\n",
       "      <td>0</td>\n",
       "      <td>1</td>\n",
       "      <td>0</td>\n",
       "      <td>0</td>\n",
       "      <td>1534</td>\n",
       "      <td>7</td>\n",
       "    </tr>\n",
       "    <tr>\n",
       "      <th>6405</th>\n",
       "      <td>6375</td>\n",
       "      <td>0.043</td>\n",
       "      <td>0</td>\n",
       "      <td>0</td>\n",
       "      <td>0</td>\n",
       "      <td>0</td>\n",
       "      <td>0</td>\n",
       "      <td>0</td>\n",
       "      <td>2020</td>\n",
       "      <td>31</td>\n",
       "      <td>...</td>\n",
       "      <td>8.0</td>\n",
       "      <td>1</td>\n",
       "      <td>0</td>\n",
       "      <td>0</td>\n",
       "      <td>0</td>\n",
       "      <td>1</td>\n",
       "      <td>0</td>\n",
       "      <td>0</td>\n",
       "      <td>1534</td>\n",
       "      <td>7</td>\n",
       "    </tr>\n",
       "    <tr>\n",
       "      <th>6406</th>\n",
       "      <td>2202</td>\n",
       "      <td>0.000</td>\n",
       "      <td>0</td>\n",
       "      <td>0</td>\n",
       "      <td>0</td>\n",
       "      <td>1</td>\n",
       "      <td>0</td>\n",
       "      <td>0</td>\n",
       "      <td>2020</td>\n",
       "      <td>31</td>\n",
       "      <td>...</td>\n",
       "      <td>8.0</td>\n",
       "      <td>1</td>\n",
       "      <td>0</td>\n",
       "      <td>0</td>\n",
       "      <td>0</td>\n",
       "      <td>1</td>\n",
       "      <td>0</td>\n",
       "      <td>0</td>\n",
       "      <td>1534</td>\n",
       "      <td>7</td>\n",
       "    </tr>\n",
       "  </tbody>\n",
       "</table>\n",
       "<p>6407 rows × 24 columns</p>\n",
       "</div>"
      ],
      "text/plain": [
       "        ID  Distance(mi)  Crossing  Junction  Railway  Stop  Amenity  Side  \\\n",
       "0     3657         0.000         0         1        0     0        0     0   \n",
       "1     3724         0.010         0         0        0     0        0     0   \n",
       "2     6024         0.150         0         1        0     0        0     0   \n",
       "3      985         0.039         0         1        0     0        0     0   \n",
       "4     1960         0.010         0         1        0     0        0     0   \n",
       "...    ...           ...       ...       ...      ...   ...      ...   ...   \n",
       "6402   401         1.118         0         0        0     0        0     0   \n",
       "6403  3832         0.106         0         0        0     0        0     0   \n",
       "6404  3152         0.397         0         0        0     0        0     0   \n",
       "6405  6375         0.043         0         0        0     0        0     0   \n",
       "6406  2202         0.000         0         0        0     1        0     0   \n",
       "\n",
       "      Year  Day  ...  Visibility(mi)  hour_priority  cloudy  rain  fog  fair  \\\n",
       "0     2016   23  ...            10.0              2       0     0    0     0   \n",
       "1     2016   23  ...            10.0              2       0     0    0     0   \n",
       "2     2016   23  ...            10.0              2       0     0    0     0   \n",
       "3     2016   24  ...            10.0              5       0     0    0     0   \n",
       "4     2016   24  ...            10.0              5       0     0    0     0   \n",
       "...    ...  ...  ...             ...            ...     ...   ...  ...   ...   \n",
       "6402  2020   31  ...             8.0              1       0     0    0     1   \n",
       "6403  2020   31  ...             8.0              1       0     0    0     1   \n",
       "6404  2020   31  ...             8.0              1       0     0    0     1   \n",
       "6405  2020   31  ...             8.0              1       0     0    0     1   \n",
       "6406  2020   31  ...             8.0              1       0     0    0     1   \n",
       "\n",
       "      drizzle  smoke  New_data_col  temp_priority  \n",
       "0           0      1             0              7  \n",
       "1           0      1             0              7  \n",
       "2           0      1             0              7  \n",
       "3           0      1             1              7  \n",
       "4           0      1             1              7  \n",
       "...       ...    ...           ...            ...  \n",
       "6402        0      0          1534              7  \n",
       "6403        0      0          1534              7  \n",
       "6404        0      0          1534              7  \n",
       "6405        0      0          1534              7  \n",
       "6406        0      0          1534              7  \n",
       "\n",
       "[6407 rows x 24 columns]"
      ]
     },
     "execution_count": 55,
     "metadata": {},
     "output_type": "execute_result"
    }
   ],
   "source": [
    "dfx2 = dfx.drop(['Severity'],axis=1)\n",
    "dfx2"
   ]
  },
  {
   "cell_type": "code",
   "execution_count": 56,
   "metadata": {},
   "outputs": [
    {
     "ename": "KeyError",
     "evalue": "'Severity'",
     "output_type": "error",
     "traceback": [
      "\u001b[1;31m---------------------------------------------------------------------------\u001b[0m",
      "\u001b[1;31mKeyError\u001b[0m                                  Traceback (most recent call last)",
      "\u001b[1;32mC:\\Users\\Omneya\\lib\\site-packages\\pandas\\core\\indexes\\base.py\u001b[0m in \u001b[0;36mget_loc\u001b[1;34m(self, key, method, tolerance)\u001b[0m\n\u001b[0;32m   2894\u001b[0m             \u001b[1;32mtry\u001b[0m\u001b[1;33m:\u001b[0m\u001b[1;33m\u001b[0m\u001b[1;33m\u001b[0m\u001b[0m\n\u001b[1;32m-> 2895\u001b[1;33m                 \u001b[1;32mreturn\u001b[0m \u001b[0mself\u001b[0m\u001b[1;33m.\u001b[0m\u001b[0m_engine\u001b[0m\u001b[1;33m.\u001b[0m\u001b[0mget_loc\u001b[0m\u001b[1;33m(\u001b[0m\u001b[0mcasted_key\u001b[0m\u001b[1;33m)\u001b[0m\u001b[1;33m\u001b[0m\u001b[1;33m\u001b[0m\u001b[0m\n\u001b[0m\u001b[0;32m   2896\u001b[0m             \u001b[1;32mexcept\u001b[0m \u001b[0mKeyError\u001b[0m \u001b[1;32mas\u001b[0m \u001b[0merr\u001b[0m\u001b[1;33m:\u001b[0m\u001b[1;33m\u001b[0m\u001b[1;33m\u001b[0m\u001b[0m\n",
      "\u001b[1;32mpandas\\_libs\\index.pyx\u001b[0m in \u001b[0;36mpandas._libs.index.IndexEngine.get_loc\u001b[1;34m()\u001b[0m\n",
      "\u001b[1;32mpandas\\_libs\\index.pyx\u001b[0m in \u001b[0;36mpandas._libs.index.IndexEngine.get_loc\u001b[1;34m()\u001b[0m\n",
      "\u001b[1;32mpandas\\_libs\\hashtable_class_helper.pxi\u001b[0m in \u001b[0;36mpandas._libs.hashtable.PyObjectHashTable.get_item\u001b[1;34m()\u001b[0m\n",
      "\u001b[1;32mpandas\\_libs\\hashtable_class_helper.pxi\u001b[0m in \u001b[0;36mpandas._libs.hashtable.PyObjectHashTable.get_item\u001b[1;34m()\u001b[0m\n",
      "\u001b[1;31mKeyError\u001b[0m: 'Severity'",
      "\nThe above exception was the direct cause of the following exception:\n",
      "\u001b[1;31mKeyError\u001b[0m                                  Traceback (most recent call last)",
      "\u001b[1;32m<ipython-input-56-90b04c6e0c6d>\u001b[0m in \u001b[0;36m<module>\u001b[1;34m\u001b[0m\n\u001b[1;32m----> 1\u001b[1;33m \u001b[0mdfx2\u001b[0m\u001b[1;33m[\u001b[0m\u001b[1;34m'Severity'\u001b[0m\u001b[1;33m]\u001b[0m\u001b[1;33m\u001b[0m\u001b[1;33m\u001b[0m\u001b[0m\n\u001b[0m",
      "\u001b[1;32mC:\\Users\\Omneya\\lib\\site-packages\\pandas\\core\\frame.py\u001b[0m in \u001b[0;36m__getitem__\u001b[1;34m(self, key)\u001b[0m\n\u001b[0;32m   2900\u001b[0m             \u001b[1;32mif\u001b[0m \u001b[0mself\u001b[0m\u001b[1;33m.\u001b[0m\u001b[0mcolumns\u001b[0m\u001b[1;33m.\u001b[0m\u001b[0mnlevels\u001b[0m \u001b[1;33m>\u001b[0m \u001b[1;36m1\u001b[0m\u001b[1;33m:\u001b[0m\u001b[1;33m\u001b[0m\u001b[1;33m\u001b[0m\u001b[0m\n\u001b[0;32m   2901\u001b[0m                 \u001b[1;32mreturn\u001b[0m \u001b[0mself\u001b[0m\u001b[1;33m.\u001b[0m\u001b[0m_getitem_multilevel\u001b[0m\u001b[1;33m(\u001b[0m\u001b[0mkey\u001b[0m\u001b[1;33m)\u001b[0m\u001b[1;33m\u001b[0m\u001b[1;33m\u001b[0m\u001b[0m\n\u001b[1;32m-> 2902\u001b[1;33m             \u001b[0mindexer\u001b[0m \u001b[1;33m=\u001b[0m \u001b[0mself\u001b[0m\u001b[1;33m.\u001b[0m\u001b[0mcolumns\u001b[0m\u001b[1;33m.\u001b[0m\u001b[0mget_loc\u001b[0m\u001b[1;33m(\u001b[0m\u001b[0mkey\u001b[0m\u001b[1;33m)\u001b[0m\u001b[1;33m\u001b[0m\u001b[1;33m\u001b[0m\u001b[0m\n\u001b[0m\u001b[0;32m   2903\u001b[0m             \u001b[1;32mif\u001b[0m \u001b[0mis_integer\u001b[0m\u001b[1;33m(\u001b[0m\u001b[0mindexer\u001b[0m\u001b[1;33m)\u001b[0m\u001b[1;33m:\u001b[0m\u001b[1;33m\u001b[0m\u001b[1;33m\u001b[0m\u001b[0m\n\u001b[0;32m   2904\u001b[0m                 \u001b[0mindexer\u001b[0m \u001b[1;33m=\u001b[0m \u001b[1;33m[\u001b[0m\u001b[0mindexer\u001b[0m\u001b[1;33m]\u001b[0m\u001b[1;33m\u001b[0m\u001b[1;33m\u001b[0m\u001b[0m\n",
      "\u001b[1;32mC:\\Users\\Omneya\\lib\\site-packages\\pandas\\core\\indexes\\base.py\u001b[0m in \u001b[0;36mget_loc\u001b[1;34m(self, key, method, tolerance)\u001b[0m\n\u001b[0;32m   2895\u001b[0m                 \u001b[1;32mreturn\u001b[0m \u001b[0mself\u001b[0m\u001b[1;33m.\u001b[0m\u001b[0m_engine\u001b[0m\u001b[1;33m.\u001b[0m\u001b[0mget_loc\u001b[0m\u001b[1;33m(\u001b[0m\u001b[0mcasted_key\u001b[0m\u001b[1;33m)\u001b[0m\u001b[1;33m\u001b[0m\u001b[1;33m\u001b[0m\u001b[0m\n\u001b[0;32m   2896\u001b[0m             \u001b[1;32mexcept\u001b[0m \u001b[0mKeyError\u001b[0m \u001b[1;32mas\u001b[0m \u001b[0merr\u001b[0m\u001b[1;33m:\u001b[0m\u001b[1;33m\u001b[0m\u001b[1;33m\u001b[0m\u001b[0m\n\u001b[1;32m-> 2897\u001b[1;33m                 \u001b[1;32mraise\u001b[0m \u001b[0mKeyError\u001b[0m\u001b[1;33m(\u001b[0m\u001b[0mkey\u001b[0m\u001b[1;33m)\u001b[0m \u001b[1;32mfrom\u001b[0m \u001b[0merr\u001b[0m\u001b[1;33m\u001b[0m\u001b[1;33m\u001b[0m\u001b[0m\n\u001b[0m\u001b[0;32m   2898\u001b[0m \u001b[1;33m\u001b[0m\u001b[0m\n\u001b[0;32m   2899\u001b[0m         \u001b[1;32mif\u001b[0m \u001b[0mtolerance\u001b[0m \u001b[1;32mis\u001b[0m \u001b[1;32mnot\u001b[0m \u001b[1;32mNone\u001b[0m\u001b[1;33m:\u001b[0m\u001b[1;33m\u001b[0m\u001b[1;33m\u001b[0m\u001b[0m\n",
      "\u001b[1;31mKeyError\u001b[0m: 'Severity'"
     ]
    }
   ],
   "source": [
    "dfx2['Severity']"
   ]
  },
  {
   "cell_type": "code",
   "execution_count": 58,
   "metadata": {},
   "outputs": [],
   "source": [
    "from sklearn import preprocessing\n",
    "x = dfx2.values #returns a numpy array\n",
    "min_max_scaler = preprocessing.MinMaxScaler()\n",
    "x_scaled = min_max_scaler.fit_transform(x)\n",
    "dfx2=pd.DataFrame(x_scaled, columns=dfx2.columns)"
   ]
  },
  {
   "cell_type": "code",
   "execution_count": 59,
   "metadata": {},
   "outputs": [],
   "source": [
    "dfx2['Severityy'] = dfx['Severity']"
   ]
  },
  {
   "cell_type": "code",
   "execution_count": 60,
   "metadata": {},
   "outputs": [
    {
     "data": {
      "text/plain": [
       "0       2\n",
       "1       3\n",
       "2       2\n",
       "3       2\n",
       "4       3\n",
       "       ..\n",
       "6402    2\n",
       "6403    2\n",
       "6404    2\n",
       "6405    2\n",
       "6406    2\n",
       "Name: Severityy, Length: 6407, dtype: int64"
      ]
     },
     "execution_count": 60,
     "metadata": {},
     "output_type": "execute_result"
    }
   ],
   "source": [
    "dfx2['Severityy']"
   ]
  },
  {
   "cell_type": "markdown",
   "metadata": {},
   "source": [
    "The output shows desciptive statistics for the numerical features, `Lat`, `Lng`, `Distance(mi)`, and `Severity`. I'll use the numerical features to demonstrate how to train the model and make submissions. **However you shouldn't use the numerical features only to make the final submission if you want to make it to the top of the leaderboard.**"
   ]
  },
  {
   "cell_type": "markdown",
   "metadata": {
    "papermill": {
     "duration": 0.011808,
     "end_time": "2021-06-04T18:20:08.89742",
     "exception": false,
     "start_time": "2021-06-04T18:20:08.885612",
     "status": "completed"
    },
    "tags": []
   },
   "source": [
    "## Data Splitting\n",
    "\n",
    "Now it's time to split the dataset for the training step. Typically the dataset is split into 3 subsets, namely, the training, validation and test sets. In our case, the test set is already predefined. So we'll split the \"training\" set into training and validation sets with 0.8:0.2 ratio. \n",
    "\n",
    "*Note: a good way to generate reproducible results is to set the seed to the algorithms that depends on randomization. This is done with the argument `random_state` in the following command* "
   ]
  },
  {
   "cell_type": "code",
   "execution_count": null,
   "metadata": {},
   "outputs": [],
   "source": [
    "#rom sklearn.model_selection import train_test_split\n",
    "#,y = dfx.drop(columns=['Severity', 'Railway','Humidity(%)','Visibility(mi)']), dfx['Severity']\n",
    "\n",
    "#_train, X_val, y_train, y_val = train_test_split(X,y, test_size=0.2, random_state=42,stratify=y) # Try adding `stratify` here\n",
    "\n",
    "#X_train = train_df.drop(columns=['Severity', 'Railway','Humidity(%)','Visibility(mi)'])\n",
    "#y_train = train_df['Severity']\n",
    "\n",
    "#X_val = val_df.drop(columns=[ 'Severity', 'Railway','Humidity(%)','Visibility(mi)'])\n",
    "#y_val = val_df['Severity']"
   ]
  },
  {
   "cell_type": "code",
   "execution_count": 61,
   "metadata": {
    "execution": {
     "iopub.execute_input": "2021-07-26T08:49:49.218115Z",
     "iopub.status.busy": "2021-07-26T08:49:49.217693Z",
     "iopub.status.idle": "2021-07-26T08:49:50.393992Z",
     "shell.execute_reply": "2021-07-26T08:49:50.392782Z",
     "shell.execute_reply.started": "2021-07-26T08:49:49.218084Z"
    },
    "papermill": {
     "duration": 1.125829,
     "end_time": "2021-06-04T18:20:10.035208",
     "exception": false,
     "start_time": "2021-06-04T18:20:08.909379",
     "status": "completed"
    },
    "tags": []
   },
   "outputs": [],
   "source": [
    "from sklearn.model_selection import train_test_split\n",
    "\n",
    "train_df, val_df = train_test_split(dfx2, test_size=0.2, shuffle=True,random_state=42) # Try adding `stratify` here\n",
    "\n",
    "#X_train = train_df.drop(columns=['Severity', 'Railway','Humidity(%)','Visibility(mi)','Hour'])\n",
    "X_train = train_df.drop(columns=['Severityy', 'Railway','Humidity(%)','Visibility(mi)','Hour' ])\n",
    "\n",
    "y_train = train_df['Severityy']\n",
    "\n",
    "X_val = val_df.drop(columns=['Severityy', 'Railway','Humidity(%)','Visibility(mi)','Hour'])\n",
    "y_val = val_df['Severityy']\n"
   ]
  },
  {
   "cell_type": "markdown",
   "metadata": {},
   "source": [
    "As pointed out eariler, I'll use the numerical features to train the classifier. **However, you shouldn't use the numerical features only to make the final submission if you want to make it to the top of the leaderboard.** "
   ]
  },
  {
   "cell_type": "code",
   "execution_count": null,
   "metadata": {},
   "outputs": [],
   "source": [
    "X_train.columns"
   ]
  },
  {
   "cell_type": "code",
   "execution_count": null,
   "metadata": {},
   "outputs": [],
   "source": [
    "X_train.head()"
   ]
  },
  {
   "cell_type": "code",
   "execution_count": null,
   "metadata": {
    "execution": {
     "iopub.execute_input": "2021-07-26T08:49:50.396427Z",
     "iopub.status.busy": "2021-07-26T08:49:50.39609Z",
     "iopub.status.idle": "2021-07-26T08:49:50.406773Z",
     "shell.execute_reply": "2021-07-26T08:49:50.404687Z",
     "shell.execute_reply.started": "2021-07-26T08:49:50.396397Z"
    }
   },
   "outputs": [],
   "source": [
    "# This cell is used to select the numerical features. IT SHOULD BE REMOVED AS YOU DO YOUR WORK.\n",
    "#X_train = X_train[['Lat', 'Lng', 'Distance(mi)']]\n",
    "#X_val = X_val[['Lat', 'Lng', 'Distance(mi)']]"
   ]
  },
  {
   "cell_type": "code",
   "execution_count": 62,
   "metadata": {},
   "outputs": [
    {
     "data": {
      "text/plain": [
       "748     3\n",
       "5720    2\n",
       "1310    2\n",
       "5343    1\n",
       "1480    3\n",
       "       ..\n",
       "3772    2\n",
       "5191    2\n",
       "5226    1\n",
       "5390    3\n",
       "860     3\n",
       "Name: Severityy, Length: 5125, dtype: int64"
      ]
     },
     "execution_count": 62,
     "metadata": {},
     "output_type": "execute_result"
    }
   ],
   "source": [
    "y_train"
   ]
  },
  {
   "cell_type": "markdown",
   "metadata": {
    "papermill": {
     "duration": 0.013313,
     "end_time": "2021-06-04T18:20:10.060544",
     "exception": false,
     "start_time": "2021-06-04T18:20:10.047231",
     "status": "completed"
    },
    "tags": []
   },
   "source": [
    "## Model Training\n",
    "\n",
    "Let's train a model with the data! We'll train a Random Forest Classifier to demonstrate the process of making submissions. "
   ]
  },
  {
   "cell_type": "code",
   "execution_count": 63,
   "metadata": {
    "execution": {
     "iopub.execute_input": "2021-07-26T08:49:50.409122Z",
     "iopub.status.busy": "2021-07-26T08:49:50.40878Z",
     "iopub.status.idle": "2021-07-26T08:49:50.959204Z",
     "shell.execute_reply": "2021-07-26T08:49:50.957943Z",
     "shell.execute_reply.started": "2021-07-26T08:49:50.409089Z"
    }
   },
   "outputs": [],
   "source": [
    "from sklearn.ensemble import RandomForestClassifier\n",
    "\n",
    "# Create an instance of the classifier\n",
    "classifier = RandomForestClassifier(max_depth=2, random_state=0)\n",
    "\n",
    "# Train the classifier\n",
    "classifier = classifier.fit(X_train, y_train)"
   ]
  },
  {
   "cell_type": "markdown",
   "metadata": {
    "papermill": {
     "duration": 0.022394,
     "end_time": "2021-06-04T18:20:12.327521",
     "exception": false,
     "start_time": "2021-06-04T18:20:12.305127",
     "status": "completed"
    },
    "tags": []
   },
   "source": [
    "Now let's test our classifier on the validation dataset and see the accuracy."
   ]
  },
  {
   "cell_type": "code",
   "execution_count": 64,
   "metadata": {
    "execution": {
     "iopub.execute_input": "2021-07-26T08:49:50.961026Z",
     "iopub.status.busy": "2021-07-26T08:49:50.960728Z",
     "iopub.status.idle": "2021-07-26T08:49:50.998928Z",
     "shell.execute_reply": "2021-07-26T08:49:50.997776Z",
     "shell.execute_reply.started": "2021-07-26T08:49:50.960998Z"
    }
   },
   "outputs": [
    {
     "name": "stdout",
     "output_type": "stream",
     "text": [
      "The accuracy of the classifier on the validation set is  0.7269890795631825\n"
     ]
    }
   ],
   "source": [
    "print(\"The accuracy of the classifier on the validation set is \", (classifier.score(X_val, y_val)))"
   ]
  },
  {
   "cell_type": "markdown",
   "metadata": {
    "papermill": {
     "duration": 0.022624,
     "end_time": "2021-06-04T18:20:12.449016",
     "exception": false,
     "start_time": "2021-06-04T18:20:12.426392",
     "status": "completed"
    },
    "tags": []
   },
   "source": [
    "Well. That's a good start, right? A classifier that predicts all examples' `Severity` as 2 will get around 0.63. You should get better score as you add more features and do better data preprocessing."
   ]
  },
  {
   "cell_type": "markdown",
   "metadata": {
    "papermill": {
     "duration": 0.023075,
     "end_time": "2021-06-04T18:20:12.495824",
     "exception": false,
     "start_time": "2021-06-04T18:20:12.472749",
     "status": "completed"
    },
    "tags": []
   },
   "source": [
    "## Submission File Generation\n",
    "\n",
    "We have built a model and we'd like to submit our predictions on the test set! In order to do that, we'll load the test set, predict the class and save the submission file. \n",
    "\n",
    "First, we'll load the data."
   ]
  },
  {
   "cell_type": "code",
   "execution_count": null,
   "metadata": {
    "execution": {
     "iopub.execute_input": "2021-07-26T08:49:51.000913Z",
     "iopub.status.busy": "2021-07-26T08:49:51.000419Z",
     "iopub.status.idle": "2021-07-26T08:49:51.05699Z",
     "shell.execute_reply": "2021-07-26T08:49:51.053907Z",
     "shell.execute_reply.started": "2021-07-26T08:49:51.000865Z"
    },
    "papermill": {
     "duration": 0.056131,
     "end_time": "2021-06-04T18:20:12.568677",
     "exception": false,
     "start_time": "2021-06-04T18:20:12.512546",
     "status": "completed"
    },
    "scrolled": true,
    "tags": []
   },
   "outputs": [],
   "source": [
    "test_df = pd.read_csv('test.csv')\n",
    "test_df.head()\n"
   ]
  },
  {
   "cell_type": "code",
   "execution_count": null,
   "metadata": {},
   "outputs": [],
   "source": [
    "test_df.drop(['Bump', 'Give_Way','No_Exit','Roundabout','Lat' ,'Lng'], axis=1, inplace=True)\n"
   ]
  },
  {
   "cell_type": "code",
   "execution_count": null,
   "metadata": {},
   "outputs": [],
   "source": [
    "test_df['timestamp'] = pd.to_datetime(test_df['timestamp'])\n",
    "test_df['new_date_column'] = test_df['timestamp'].dt.date\n",
    "test_df['new_date_column'] = pd.to_datetime(test_df['new_date_column'])"
   ]
  },
  {
   "cell_type": "code",
   "execution_count": null,
   "metadata": {},
   "outputs": [],
   "source": [
    "def Convert_to_int(Df_col) :\n",
    "    test_df[Df_col] = test_df[Df_col].astype(int)\n",
    "Convert_to_int('Crossing')\n",
    "Convert_to_int('Junction')\n",
    "Convert_to_int('Railway')\n",
    "Convert_to_int('Stop')\n",
    "Convert_to_int('Amenity')"
   ]
  },
  {
   "cell_type": "code",
   "execution_count": null,
   "metadata": {},
   "outputs": [],
   "source": [
    "test_df['Side'] = test_df['Side'].replace({'R':0 ,'L':1})\n",
    "test_df['Side']"
   ]
  },
  {
   "cell_type": "code",
   "execution_count": null,
   "metadata": {},
   "outputs": [],
   "source": [
    "test_df = test_df.sort_values('new_date_column')"
   ]
  },
  {
   "cell_type": "code",
   "execution_count": null,
   "metadata": {},
   "outputs": [],
   "source": [
    "test_df"
   ]
  },
  {
   "cell_type": "code",
   "execution_count": null,
   "metadata": {},
   "outputs": [],
   "source": [
    "dfx1 = pd.merge_asof(test_df, weather, on='new_date_column')\n"
   ]
  },
  {
   "cell_type": "code",
   "execution_count": null,
   "metadata": {},
   "outputs": [],
   "source": [
    "#dfx1.dropna(inplace=True)\n",
    "#dfx1"
   ]
  },
  {
   "cell_type": "code",
   "execution_count": null,
   "metadata": {},
   "outputs": [],
   "source": [
    "dfyy = pd.get_dummies(dfx1.Weather_Condition)\n",
    "dfx1 = dfx1.drop('Weather_Condition',axis = 1)\n",
    "dfx1 = dfx1.join(dfyy)\n",
    "dfx1.columns"
   ]
  },
  {
   "cell_type": "code",
   "execution_count": null,
   "metadata": {},
   "outputs": [],
   "source": [
    "dfx1['Hour'].value_counts()\n",
    "hour1 = []\n",
    "for i in dfx1['Hour']:\n",
    "    if i == 16 or i == 17 or i == 18 or i == 9 or i == 15:\n",
    "        hour1.append(5)\n",
    "    elif i == 14 or i ==8 or i ==13 or i==19 or i == 10:\n",
    "        hour1.append(4)\n",
    "    elif i == 11 or i ==21 or i ==6 or i == 5:\n",
    "        hour1.append(3)\n",
    "    elif i==22 or i==20 or i ==12 or i ==1 or i ==23 or i ==0:\n",
    "        hour1.append(2)\n",
    "    else:\n",
    "        hour1.append(1)"
   ]
  },
  {
   "cell_type": "code",
   "execution_count": null,
   "metadata": {},
   "outputs": [],
   "source": [
    "dfx1['hour_priority'] = hour1"
   ]
  },
  {
   "cell_type": "code",
   "execution_count": null,
   "metadata": {},
   "outputs": [],
   "source": [
    "dfx1['cloudy'] = dfx1['Cloudy'] + dfx1['Cloudy / Windy'] + dfx1['Mostly Cloudy'] + dfx1['Mostly Cloudy / Windy'] + dfx1['Partly Cloudy'] + dfx1['Partly Cloudy / Windy']"
   ]
  },
  {
   "cell_type": "code",
   "execution_count": null,
   "metadata": {},
   "outputs": [],
   "source": [
    "dlist1= ['Cloudy' ,'Cloudy / Windy' , 'Mostly Cloudy','Mostly Cloudy / Windy','Partly Cloudy','Partly Cloudy / Windy']\n",
    "dfx1.drop(dlist1, axis=1, inplace=True)"
   ]
  },
  {
   "cell_type": "code",
   "execution_count": null,
   "metadata": {},
   "outputs": [],
   "source": [
    "dfx1['rain'] = dfx1['Heavy Rain'] + dfx1['Light Rain'] + dfx1['Rain'] \n",
    "dfx1['fog'] = dfx1['Fog'] + dfx1['Patches of Fog'] + dfx1['Shallow Fog'] \n",
    "dfx1['fair'] = dfx1['Fair'] + dfx1['Fair / Windy'] + dfx1['Clear']\n",
    "#dfx1['drizzle'] = dfx1['Light Drizzle']  + dfx1['Mist']+ dfx1['Squalls']\n",
    "dfx1['smoke'] = dfx1['Scattered Clouds'] + dfx1['Overcast'] + dfx1['Smoke'] + dfx1['Haze']\n",
    "\n",
    "llist1 = ['Heavy Rain','Light Rain','Rain','Fog','Patches of Fog','Shallow Fog','Fair','Fair / Windy','Clear',\n",
    "        'Scattered Clouds','Overcast','Smoke','Haze']\n",
    "dfx1.drop(llist1, axis=1, inplace=True)"
   ]
  },
  {
   "cell_type": "code",
   "execution_count": null,
   "metadata": {},
   "outputs": [],
   "source": [
    "#duplicate = dfx1[dfx1.duplicated()]\n",
    "#dfx1.drop_duplicates(keep='first', inplace=True)"
   ]
  },
  {
   "cell_type": "code",
   "execution_count": null,
   "metadata": {},
   "outputs": [],
   "source": [
    "from sklearn.preprocessing import LabelEncoder\n",
    "labelencoder = LabelEncoder()\n",
    "# Assigning numerical values and storing in another column\n",
    "dfx1['New_data_col'] = labelencoder.fit_transform(dfx1['new_date_column'])\n"
   ]
  },
  {
   "cell_type": "code",
   "execution_count": null,
   "metadata": {},
   "outputs": [],
   "source": [
    "dfx1.drop(['Selected','timestamp'],axis=1, inplace=True)"
   ]
  },
  {
   "cell_type": "code",
   "execution_count": null,
   "metadata": {},
   "outputs": [],
   "source": [
    "dfx1.drop(['new_date_column'],axis=1 ,inplace =True)"
   ]
  },
  {
   "cell_type": "markdown",
   "metadata": {
    "papermill": {
     "duration": 0.01243,
     "end_time": "2021-06-04T18:20:12.593691",
     "exception": false,
     "start_time": "2021-06-04T18:20:12.581261",
     "status": "completed"
    },
    "tags": []
   },
   "source": [
    "Note that the test set has the same features and doesn't have the `Severity` column.\n",
    "At this stage one must **NOT** forget to apply the same processing done on the training set on the features of the test set.\n",
    "\n",
    "Now we'll add `Severity` column to the test `DataFrame` and add the values of the predicted class to it.\n",
    "\n",
    "**I'll select the numerical features here as I did in the training set. DO NOT forget to change this step as you change the preprocessing of the training data.**"
   ]
  },
  {
   "cell_type": "code",
   "execution_count": null,
   "metadata": {},
   "outputs": [],
   "source": [
    "dfx1.columns"
   ]
  },
  {
   "cell_type": "code",
   "execution_count": null,
   "metadata": {},
   "outputs": [],
   "source": [
    "dfx1"
   ]
  },
  {
   "cell_type": "code",
   "execution_count": null,
   "metadata": {
    "execution": {
     "iopub.execute_input": "2021-07-26T08:49:51.060011Z",
     "iopub.status.busy": "2021-07-26T08:49:51.059659Z",
     "iopub.status.idle": "2021-07-26T08:49:51.148555Z",
     "shell.execute_reply": "2021-07-26T08:49:51.14749Z",
     "shell.execute_reply.started": "2021-07-26T08:49:51.059979Z"
    },
    "papermill": {
     "duration": 0.057034,
     "end_time": "2021-06-04T18:20:12.663409",
     "exception": false,
     "start_time": "2021-06-04T18:20:12.606375",
     "status": "completed"
    },
    "tags": []
   },
   "outputs": [],
   "source": [
    "X_test = dfx1.drop(columns =['Railway','Humidity(%)','Visibility(mi)','Hour'])\n",
    "\n",
    "# You should update/remove the next line once you change the features used for training\n",
    "print(X_test.columns)\n",
    "y_test_predicted = classifier.predict(X_test)\n",
    "\n",
    "dfx1['Severity'] = y_test_predicted\n"
   ]
  },
  {
   "cell_type": "code",
   "execution_count": null,
   "metadata": {},
   "outputs": [],
   "source": [
    "len(y_test_predicted)"
   ]
  },
  {
   "cell_type": "code",
   "execution_count": null,
   "metadata": {},
   "outputs": [],
   "source": [
    "dfx1"
   ]
  },
  {
   "cell_type": "markdown",
   "metadata": {
    "papermill": {
     "duration": 0.025364,
     "end_time": "2021-06-04T18:20:12.713157",
     "exception": false,
     "start_time": "2021-06-04T18:20:12.687793",
     "status": "completed"
    },
    "tags": []
   },
   "source": [
    "Now we're ready to generate the submission file. The submission file needs the columns `ID` and `Severity` only."
   ]
  },
  {
   "cell_type": "code",
   "execution_count": null,
   "metadata": {
    "execution": {
     "iopub.execute_input": "2021-07-26T08:49:51.150596Z",
     "iopub.status.busy": "2021-07-26T08:49:51.150107Z",
     "iopub.status.idle": "2021-07-26T08:49:51.166671Z",
     "shell.execute_reply": "2021-07-26T08:49:51.164823Z",
     "shell.execute_reply.started": "2021-07-26T08:49:51.150554Z"
    },
    "papermill": {
     "duration": 0.031031,
     "end_time": "2021-06-04T18:20:12.769282",
     "exception": false,
     "start_time": "2021-06-04T18:20:12.738251",
     "status": "completed"
    },
    "tags": []
   },
   "outputs": [],
   "source": [
    "dfx1[['ID', 'Severity']].to_csv('/kaggle/working/submission.csv', index=False)"
   ]
  },
  {
   "cell_type": "markdown",
   "metadata": {
    "papermill": {
     "duration": 0.012446,
     "end_time": "2021-06-04T18:20:12.795186",
     "exception": false,
     "start_time": "2021-06-04T18:20:12.78274",
     "status": "completed"
    },
    "tags": []
   },
   "source": [
    "The remaining steps is to submit the generated file and are as follows. \n",
    "\n",
    "1. Press `Save Version` on the upper right corner of this notebook.\n",
    "2. Write a `Version Name` of your choice and choose `Save & Run All (Commit)` then click `Save`.\n",
    "3. Wait for the saved notebook to finish running the go to the saved notebook.\n",
    "4. Scroll down until you see the output files then select the `submission.csv` file and click `Submit`.\n",
    "\n",
    "Now your submission will be evaluated and your score will be updated on the leaderboard! CONGRATULATIONS!!"
   ]
  },
  {
   "cell_type": "markdown",
   "metadata": {
    "papermill": {
     "duration": 0.012548,
     "end_time": "2021-06-04T18:20:12.821037",
     "exception": false,
     "start_time": "2021-06-04T18:20:12.808489",
     "status": "completed"
    },
    "tags": []
   },
   "source": [
    "## Conclusion\n",
    "\n",
    "In this notebook, we have demonstrated the essential steps that one should do in order to get \"slightly\" familiar with the data and the submission process. We chose not to go into details in each step to keep the welcoming notebook simple and make a room for improvement.\n",
    "\n",
    "You're encourged to `Fork` the notebook, edit it, add your insights and use it to create your submission."
   ]
  }
 ],
 "metadata": {
  "kernelspec": {
   "display_name": "Python 3",
   "language": "python",
   "name": "python3"
  },
  "language_info": {
   "codemirror_mode": {
    "name": "ipython",
    "version": 3
   },
   "file_extension": ".py",
   "mimetype": "text/x-python",
   "name": "python",
   "nbconvert_exporter": "python",
   "pygments_lexer": "ipython3",
   "version": "3.8.5"
  }
 },
 "nbformat": 4,
 "nbformat_minor": 4
}
